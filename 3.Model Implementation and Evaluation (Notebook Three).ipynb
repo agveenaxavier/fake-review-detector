{
 "cells": [
  {
   "cell_type": "markdown",
   "metadata": {},
   "source": [
    "# MODEL IMPLEMENTATION AND EVALUATION\n",
    "\n",
    "This is the stage where the three models are built, optimized and evaluated.\n",
    "\n",
    "Models used: `` Multinominal Naive Bayes`` , ``Support Vector Machine``, ``Logistic Regression``\n",
    "\n",
    "Evaluation methods used: ``accuracy, precision, recall, f1_score`` and ``confusion matrix``\n",
    "\n",
    "## Summary\n",
    "\n",
    "After appropriate evaluation, LR with count vectorizer has been deemed the best. The rest of the models has all worked above 80% accuracy, with the other metrics working out above 79%. "
   ]
  },
  {
   "cell_type": "code",
   "execution_count": 55,
   "metadata": {},
   "outputs": [],
   "source": [
    "#LIBRARIES \n",
    "import pandas as pd\n",
    "import nltk\n",
    "from nltk.corpus import stopwords\n",
    "import sklearn\n",
    "from sklearn.model_selection import train_test_split\n",
    "from sklearn.feature_extraction.text import CountVectorizer, TfidfVectorizer\n",
    "from sklearn.naive_bayes import MultinomialNB\n",
    "from sklearn.svm import SVC \n",
    "from sklearn.linear_model import LogisticRegression\n",
    "from sklearn.metrics import accuracy_score, precision_score, recall_score, f1_score\n",
    "from sklearn.metrics import confusion_matrix, ConfusionMatrixDisplay, plot_confusion_matrix\n",
    "import warnings\n",
    "warnings.simplefilter(\"ignore\")"
   ]
  },
  {
   "cell_type": "code",
   "execution_count": 56,
   "metadata": {},
   "outputs": [],
   "source": [
    "#lOADING DATASETS \n",
    "df = pd.read_csv(\"data and pickle files/cleaned_data.csv\",encoding=\"latin1\") #due to special charas should be encoded as latin 1\n",
    "\n",
    "toCheck = pd.read_csv(\"updated_data.csv\",encoding=\"latin1\")\n",
    "#REMOVE MAX\n",
    "pd.set_option('display.max_columns', None)\n",
    "pd.set_option('display.max_rows', None)\n",
    "\n",
    "#DROP EXTRA COLUMNS\n",
    "df.drop(['Unnamed: 0'], axis=1, inplace=True)\n",
    "toCheck.drop(['Unnamed: 0'], axis=1, inplace=True)"
   ]
  },
  {
   "cell_type": "markdown",
   "metadata": {},
   "source": [
    "# DOUBLE-CHECKING...\n",
    "\n",
    "Double checking if there are any NULL values within the dataset. This would cause issues later on if there are as such."
   ]
  },
  {
   "cell_type": "code",
   "execution_count": 57,
   "metadata": {},
   "outputs": [
    {
     "data": {
      "text/html": [
       "<div>\n",
       "<style scoped>\n",
       "    .dataframe tbody tr th:only-of-type {\n",
       "        vertical-align: middle;\n",
       "    }\n",
       "\n",
       "    .dataframe tbody tr th {\n",
       "        vertical-align: top;\n",
       "    }\n",
       "\n",
       "    .dataframe thead th {\n",
       "        text-align: right;\n",
       "    }\n",
       "</style>\n",
       "<table border=\"1\" class=\"dataframe\">\n",
       "  <thead>\n",
       "    <tr style=\"text-align: right;\">\n",
       "      <th></th>\n",
       "      <th>review_text</th>\n",
       "      <th>verified_purchase</th>\n",
       "    </tr>\n",
       "  </thead>\n",
       "  <tbody>\n",
       "    <tr>\n",
       "      <th>191</th>\n",
       "      <td>NaN</td>\n",
       "      <td>True</td>\n",
       "    </tr>\n",
       "    <tr>\n",
       "      <th>523</th>\n",
       "      <td>NaN</td>\n",
       "      <td>True</td>\n",
       "    </tr>\n",
       "    <tr>\n",
       "      <th>1072</th>\n",
       "      <td>NaN</td>\n",
       "      <td>True</td>\n",
       "    </tr>\n",
       "    <tr>\n",
       "      <th>1111</th>\n",
       "      <td>NaN</td>\n",
       "      <td>True</td>\n",
       "    </tr>\n",
       "    <tr>\n",
       "      <th>1230</th>\n",
       "      <td>NaN</td>\n",
       "      <td>True</td>\n",
       "    </tr>\n",
       "    <tr>\n",
       "      <th>1316</th>\n",
       "      <td>NaN</td>\n",
       "      <td>True</td>\n",
       "    </tr>\n",
       "  </tbody>\n",
       "</table>\n",
       "</div>"
      ],
      "text/plain": [
       "     review_text  verified_purchase\n",
       "191          NaN               True\n",
       "523          NaN               True\n",
       "1072         NaN               True\n",
       "1111         NaN               True\n",
       "1230         NaN               True\n",
       "1316         NaN               True"
      ]
     },
     "execution_count": 57,
     "metadata": {},
     "output_type": "execute_result"
    }
   ],
   "source": [
    "#CHECKING WHICH ROW IS NULL FROM PRE-PROCESSING\n",
    "checkNULL = df.isnull()\n",
    "checkNULL = checkNULL.any(axis=1)\n",
    "df[checkNULL]"
   ]
  },
  {
   "cell_type": "code",
   "execution_count": 58,
   "metadata": {},
   "outputs": [],
   "source": [
    "toCheck = toCheck.drop_duplicates().reset_index(drop=True)"
   ]
  },
  {
   "cell_type": "code",
   "execution_count": 59,
   "metadata": {},
   "outputs": [
    {
     "data": {
      "text/html": [
       "<div>\n",
       "<style scoped>\n",
       "    .dataframe tbody tr th:only-of-type {\n",
       "        vertical-align: middle;\n",
       "    }\n",
       "\n",
       "    .dataframe tbody tr th {\n",
       "        vertical-align: top;\n",
       "    }\n",
       "\n",
       "    .dataframe thead th {\n",
       "        text-align: right;\n",
       "    }\n",
       "</style>\n",
       "<table border=\"1\" class=\"dataframe\">\n",
       "  <thead>\n",
       "    <tr style=\"text-align: right;\">\n",
       "      <th></th>\n",
       "      <th>review_text</th>\n",
       "      <th>verified_purchase</th>\n",
       "    </tr>\n",
       "  </thead>\n",
       "  <tbody>\n",
       "    <tr>\n",
       "      <th>191</th>\n",
       "      <td>A+</td>\n",
       "      <td>True</td>\n",
       "    </tr>\n",
       "    <tr>\n",
       "      <th>523</th>\n",
       "      <td>5*</td>\n",
       "      <td>True</td>\n",
       "    </tr>\n",
       "    <tr>\n",
       "      <th>1072</th>\n",
       "      <td>very</td>\n",
       "      <td>True</td>\n",
       "    </tr>\n",
       "    <tr>\n",
       "      <th>1111</th>\n",
       "      <td>Does what it should</td>\n",
       "      <td>True</td>\n",
       "    </tr>\n",
       "    <tr>\n",
       "      <th>1230</th>\n",
       "      <td>A+</td>\n",
       "      <td>True</td>\n",
       "    </tr>\n",
       "    <tr>\n",
       "      <th>1316</th>\n",
       "      <td>A*****</td>\n",
       "      <td>True</td>\n",
       "    </tr>\n",
       "  </tbody>\n",
       "</table>\n",
       "</div>"
      ],
      "text/plain": [
       "              review_text  verified_purchase\n",
       "191                    A+               True\n",
       "523                    5*               True\n",
       "1072                 very               True\n",
       "1111  Does what it should               True\n",
       "1230                   A+               True\n",
       "1316               A*****               True"
      ]
     },
     "execution_count": 59,
     "metadata": {},
     "output_type": "execute_result"
    }
   ],
   "source": [
    "toCheck.iloc[[191,523,1072,1111,1230,1316],[3,4]]"
   ]
  },
  {
   "cell_type": "markdown",
   "metadata": {},
   "source": [
    "Checking the old csv file, it can be seen as to why the five rows were totally cleaned out within its review_text. That was because within the text processing stage previously, only words which held meaning were kept, and if we refer to the second table we can see that most of them were either stopwords or had symbols and numbers. Since they don't hold meaning either way, these will be dropped subsequently. "
   ]
  },
  {
   "cell_type": "code",
   "execution_count": 60,
   "metadata": {},
   "outputs": [],
   "source": [
    "#DROP THE NULL ROWS\n",
    "df = df.dropna(how='any',axis=0) "
   ]
  },
  {
   "cell_type": "code",
   "execution_count": 61,
   "metadata": {},
   "outputs": [
    {
     "data": {
      "text/plain": [
       "False    0.525701\n",
       "True     0.474299\n",
       "Name: verified_purchase, dtype: float64"
      ]
     },
     "execution_count": 61,
     "metadata": {},
     "output_type": "execute_result"
    }
   ],
   "source": [
    "#UPDATED VP VALUES \n",
    "df[\"verified_purchase\"].value_counts(normalize=True)"
   ]
  },
  {
   "cell_type": "markdown",
   "metadata": {},
   "source": [
    "The change barely had any affect on the T/F values, and thus we are ready to proceed."
   ]
  },
  {
   "cell_type": "markdown",
   "metadata": {},
   "source": [
    "# MODELING\n",
    "\n",
    "Within the dataset, there are currently only two columns. Out of the two, review_text is going to be assigned as the input variable, and verified_purchases as the target variable. The data is then going to be split accordingly."
   ]
  },
  {
   "cell_type": "code",
   "execution_count": 62,
   "metadata": {},
   "outputs": [],
   "source": [
    "#ASSIGN THE VARIABLES\n",
    "X = df['review_text'] #input var\n",
    "y = df['verified_purchase'] #target var"
   ]
  },
  {
   "cell_type": "code",
   "execution_count": 63,
   "metadata": {},
   "outputs": [
    {
     "name": "stdout",
     "output_type": "stream",
     "text": [
      "Number of rows:\n",
      "Entire dataset: 1712\n",
      "Train dataset: 1027\n",
      "Test dataset: 685\n"
     ]
    }
   ],
   "source": [
    "#SPLIT DATA\n",
    "X_train, X_test, y_train, y_test = train_test_split(\n",
    "    df['review_text'], df['verified_purchase'],test_size=0.4, random_state=42) #40% gives best results, 42 is no of life...\n",
    "\n",
    "entiredf = format(df.shape[0])\n",
    "traindf = format(X_train.shape[0])\n",
    "testdf = format(X_test.shape[0])\n",
    "\n",
    "print('Number of rows:')\n",
    "print('Entire dataset:', entiredf)\n",
    "print('Train dataset:', traindf)\n",
    "print('Test dataset:',testdf)"
   ]
  },
  {
   "cell_type": "markdown",
   "metadata": {},
   "source": [
    "The data is decided to be split into 60 - 40, which has been determined by trial and error. This splitting produces the highest accuracy for the models, and thus we are going to with that. "
   ]
  },
  {
   "cell_type": "markdown",
   "metadata": {},
   "source": [
    "## COUNT VECTORIZER AND MODELING\n",
    "\n",
    "word vectorization maps words or phrases from a lexicon to a matching vector of real numbers, which may then be used to determine word predictions and semantics, and this is done due to the fact that models only understand numerical data.\n",
    "\n",
    "We are going to be utlizing two of the vectorization methods, the first one being count vectorizer. We just count the number of times a word appears in the document in CountVectorizer, which results in a bias in favor of the most common terms."
   ]
  },
  {
   "cell_type": "code",
   "execution_count": 64,
   "metadata": {},
   "outputs": [
    {
     "name": "stdout",
     "output_type": "stream",
     "text": [
      "\n",
      "Vocabulary: \n",
      " {'current': 415, 'sell': 1499, 'price': 1311, 'compar': 343, 'supermarket': 1706, 'good': 762, 'smell': 1564, 'pleasant': 1271, 'need': 1135, 'add': 14, 'small': 1559, 'cloth': 321, 'fresh': 702, 'great': 778, 'moisturis': 1101, 'sensit': 1503, 'love': 1011, 'pour': 1294, 'smaller': 1560, 'bottl': 194, 'make': 1034, 'manag': 1038, 'beat': 137, 'decent': 434, 'fabric': 616, 'soften': 1581, 'nice': 1143, 'fragranc': 697, 'purchas': 1335, 'deliveri': 458, 'cream': 399, 'handwash': 803, 'cheaper': 282, 'hand': 800, 'better': 155, 'liquid': 990, 'oh': 1175, 'wing': 1918, 'dove': 516, 'kitchen': 942, 'bathroom': 131, 'shower': 1528, 'room': 1437, 'recommend': 1379, 'highli': 832, 'star': 1637, 'simpl': 1538, 'gel': 729, 'like': 979, 'glue': 755, 'hard': 807, 'rub': 1445, 'slip': 1556, 'bath': 130, 'goe': 758, 'smoothli': 1570, 'easili': 541, 'wast': 1886, 'leav': 966, 'feel': 645, 'silki': 1536, 'soft': 1580, 'scenti': 1478, 'review': 1420, 'collect': 328, 'promot': 1323, 'excel': 591, 'everi': 582, 'day': 428, 'facial': 619, 'wash': 1883, 'excess': 593, 'face': 618, 'strip': 1670, 'natur': 1128, 'oil': 1176, 'care': 257, 'routin': 1443, 'morn': 1109, 'night': 1145, 'clean': 310, 'brilliant': 214, 'offer': 1173, 'gorgeou': 764, 'amaz': 52, 'valu': 1849, 'girli': 741, 'hair': 796, 'buy': 236, 'chang': 277, 'preserv': 1305, 'come': 333, 'bad': 109, 'sore': 1600, 'rash': 1355, 'eye': 610, 'burn': 231, 'lip': 989, 'tingl': 1776, 'phone': 1256, 'told': 1786, 'stuff': 1678, 'ask': 92, 'said': 1455, 'know': 945, 'want': 1879, 'reason': 1369, 'mayb': 1058, 'save': 1469, 'money': 1104, 'ingredi': 899, 'nearli': 1131, 'year': 1951, 'sinc': 1542, 'nivea': 1148, 'sold': 1584, 'compani': 341, 'german': 735, 'im': 874, 'realli': 1367, 'angri': 56, 'suppos': 1709, 'ok': 1178, 'rubbish': 1447, 'burnt': 232, 'pleas': 1270, 'usual': 1847, 'stock': 1652, 'fulli': 715, 'asda': 90, 'gave': 728, 'refund': 1387, 'gift': 737, 'card': 254, 'receipt': 1372, 'pocket': 1278, 'condition': 357, 'normal': 1152, 'oili': 1177, 'week': 1897, 'saw': 1471, 'differ': 482, 'felt': 648, 'cleans': 312, 'clearer': 315, 'notic': 1157, 'straightaway': 1660, 'red': 1382, 'blemish': 170, 'previou': 1309, 'kid': 938, 'doesnt': 507, 'irrit': 916, 'scent': 1477, 'littl': 995, 'bit': 163, 'long': 1001, 'way': 1893, 'similar': 1537, 'perfect': 1237, 'got': 766, 'coupl': 392, 'ago': 32, 'refresh': 1386, 'bodi': 182, 'smooth': 1568, 'cucumb': 410, 'relax': 1394, 'best': 154, 'came': 244, 'separ': 1505, 'packet': 1209, 'sealabl': 1492, 'affect': 25, 'rough': 1441, 'dri': 527, 'otherwis': 1194, 'fantast': 633, 'lot': 1009, 'effort': 551, 'reduc': 1383, 'plastic': 1269, 'concentr': 352, 'buyer': 237, 'say': 1472, 'larger': 951, 'probabl': 1317, 'explain': 603, 'label': 947, 'fuchsia': 713, 'perfum': 1240, 'version': 1865, 'overpow': 1204, 'big': 156, 'plu': 1275, 'difficulti': 484, 'intens': 909, 'past': 1227, 'note': 1154, 'outer': 1195, 'sleev': 1551, 'recycl': 1381, 'dispos': 500, 'charg': 280, 'kind': 939, 'overbear': 1200, 'anyon': 66, 'glow': 753, 'afford': 26, 'comfort': 334, 'creation': 402, 'round': 1442, 'market': 1046, 'close': 320, 'match': 1055, 'honeysuckl': 848, 'sandalwood': 1464, 'person': 1247, 'favourit': 640, 'howev': 857, 'descript': 467, 'ad': 13, 'recent': 1374, 'amazon': 55, 'pantri': 1216, 'order': 1190, 'lamin': 948, 'tile': 1772, 'floor': 672, 'subtl': 1686, 'streak': 1663, 'free': 700, 'shine': 1524, 'moistur': 1100, 'essenti': 579, 'tri': 1809, 'time': 1774, 'today': 1782, 'packag': 1208, 'easi': 539, 'open': 1183, 'squeez': 1628, 'releas': 1395, 'puff': 1331, 'froth': 709, 'pure': 1336, 'smear': 1563, 'white': 1909, 'absorb': 4, 'non': 1149, 'greasi': 777, 'appli': 73, 'think': 1760, 'expens': 600, 'cheap': 281, 'qualiti': 1341, 'dairi': 421, 'aroma': 84, 'dont': 510, 'drench': 525, 'lotion': 1010, 'pretti': 1307, 'worth': 1938, 'thank': 1753, 'item': 921, 'describ': 466, 'rapid': 1353, 'stop': 1654, 'static': 1642, 'chocol': 295, 'flavour': 671, 'creami': 400, 'soap': 1577, 'anyth': 67, 'els': 555, 'lather': 956, 'noth': 1155, 'fail': 623, 'protect': 1327, 'gentl': 732, 'basic': 126, 'harm': 808, 'nourish': 1158, 'tasti': 1734, 'beef': 144, 'tomato': 1787, 'grate': 774, 'cheddar': 285, 'chees': 287, 'mix': 1093, 'nd': 1129, 'let': 971, 'sit': 1545, 'minut': 1085, 'regret': 1389, 'set': 1510, 'took': 1792, 'expect': 599, 'size': 1547, 'persil': 1245, 'quit': 1349, 'pictur': 1259, 'mislead': 1089, 'apart': 71, 'cheer': 286, 'makeup': 1036, 'eas': 538, 'micellar': 1076, 'water': 1889, 'left': 967, 'pack': 1207, 'extra': 604, 'impresss': 883, 'content': 370, 'aw': 103, 'cut': 418, 'right': 1428, 'fingernail': 660, 'turn': 1819, 'upsid': 1845, 'approach': 78, 'empti': 560, 'ridicul': 1427, 'design': 468, 'bought': 195, 'lumber': 1018, 'home': 843, 'larg': 950, 'decant': 433, 'exist': 596, 'contain': 369, 'tell': 1741, 'straight': 1659, 'away': 105, 'despit': 471, 'compart': 345, 'machin': 1027, 'towel': 1797, 'unlik': 1836, 'manufactur': 1042, 'healthi': 819, 'definit': 449, 'forese': 686, 'futur': 722, 'gotten': 768, 'result': 1416, 'brillant': 213, 'brand': 202, 'absolut': 3, 'fan': 631, 'wow': 1940, 'factor': 621, 'base': 123, 'commerci': 337, 'help': 827, 'disappoint': 491, 'especi': 578, 'point': 1280, 'ice': 868, 'chunk': 303, 'difficult': 483, 'eat': 542, 'entir': 571, 'tub': 1815, 'nasti': 1127, 'chemic': 288, 'super': 1702, 'famili': 630, 'young': 1957, 'old': 1180, 'friendli': 707, 'mean': 1061, 'colour': 331, 'honestli': 846, 'problemat': 1319, 'prone': 1324, 'dermat': 464, 'tast': 1733, 'weed': 1896, 'vinegar': 1868, 'work': 1933, 'remov': 1404, 'havent': 813, 'hamper': 799, 'christma': 299, 'sure': 1710, 'magnum': 1031, 'incas': 887, 'amazebal': 53, 'togeth': 1783, 'delici': 455, 'superb': 1703, 'kit': 941, 'bio': 160, 'stubborn': 1675, 'stain': 1632, 'word': 1932, 'warn': 1882, 'handl': 802, 'tend': 1744, 'ensur': 568, 'thoroughli': 1764, 'rins': 1429, 'repair': 1406, 'guy': 792, 'fals': 629, 'economi': 545, 'build': 227, 'caus': 262, 'issu': 918, 'huggabl': 860, 'strong': 1672, 'alcohol': 36, 'pot': 1292, 'noodl': 1150, 'student': 1677, 'yuck': 1960, 'addit': 15, 'sauc': 1467, 'pasta': 1228, 'carboard': 251, 'situat': 1546, 'access': 6, 'kettl': 935, 'chose': 298, 'mugshot': 1117, 'mistak': 1091, 'scrumptiou': 1489, 'authent': 99, 'linger': 986, 'bonu': 189, 'percent': 1236, 'fact': 620, 'husband': 864, 'classic': 309, 'lynx': 1026, 'deodor': 461, 'regularli': 1391, 'number': 1161, 'skincar': 1548, 'avoid': 102, 'toner': 1789, 'experi': 601, 'anoth': 62, 'major': 1033, 'extrem': 607, 'flaki': 667, 'sting': 1650, 'dewi': 477, 'look': 1005, 'deffin': 442, 'opinion': 1184, 'reccomend': 1371, 'deal': 431, 'slow': 1557, 'cook': 377, 'beauti': 139, 'tip': 1778, 'mark': 1045, 'alway': 51, 'fresher': 703, 'regular': 1390, 'late': 953, 'overal': 1199, 'improv': 884, 'claim': 306, 'perform': 1239, 'miracl': 1086, 'lol': 999, 'reaction': 1361, 'happen': 804, 'winter': 1920, 'weather': 1895, 'central': 266, 'heat': 821, 'vaselin': 1854, 'dealt': 432, 'includ': 889, 'elbow': 553, 'knee': 943, 'place': 1264, 'glide': 748, 'dream': 524, 'summer': 1696, 'spent': 1615, 'lay': 960, 'beach': 134, 'eyemak': 613, 'men': 1069, 'boot': 191, 'tame': 1727, 'divin': 502, 'iron': 915, 'tear': 1738, 'penni': 1234, 'scale': 1473, 'deliv': 457, 'quickli': 1347, 'shampoo': 1517, 'leak': 965, 'tan': 1728, 'sunb': 1698, 'spray': 1625, 'thought': 1765, 'clear': 314, 'friend': 706, 'huge': 859, 'indoor': 894, 'didnt': 479, 'exxtra': 609, 'fast': 635, 'thankyou': 1754, 'half': 798, 'shop': 1527, 'line': 984, 'fake': 627, 'africa': 28, 'poorer': 1283, 'new': 1139, 'softer': 1582, 'particularli': 1222, 'wrap': 1941, 'storag': 1656, 'measur': 1063, 'touch': 1795, 'brighter': 210, 'cleaner': 311, 'afterward': 29, 'everyon': 585, 'impress': 882, 'neutral': 1138, 'defiantli': 444, 'fab': 615, 'rate': 1357, 'mani': 1040, 'micel': 1075, 'wipe': 1921, 'total': 1794, 'alreadi': 46, 'receiv': 1373, 'feed': 644, 'event': 580, 'absoulut': 5, 'stick': 1647, 'job': 928, 'live': 996, 'hype': 867, 'clearli': 316, 'lead': 963, 'leader': 964, 'inspir': 903, 'confid': 359, 'certainli': 270, 'harsh': 810, 'favorit': 638, 'imposs': 881, 'sourc': 1604, 'check': 284, 'target': 1732, 'piec': 1261, 'crack': 397, 'bare': 119, 'far': 634, 'concern': 354, 'waterproof': 1891, 'mascara': 1050, 'powder': 1296, 'return': 1418, 'paid': 1211, 'daili': 420, 'basi': 125, 'age': 30, 'multipl': 1118, 'bulk': 228, 'door': 511, 'funnel': 719, 'easier': 540, 'section': 1497, 'washer': 1884, 'moreov': 1108, 'thing': 1759, 'exactli': 590, 'someth': 1589, 'odor': 1170, 'blend': 171, 'energis': 565, 'complain': 347, 'lid': 973, 'bin': 159, 'spill': 1619, 'everywher': 588, 'box': 198, 'ml': 1095, 'hope': 849, 'misl': 1088, 'month': 1105, 'start': 1638, 'enjoy': 567, 'mr': 1115, 'hinch': 834, 'glad': 744, 'scratch': 1482, 'scour': 1481, 'pad': 1210, 'minki': 1084, 'spong': 1622, 'oven': 1198, 'hob': 839, 'tap': 1731, 'sink': 1544, 'screen': 1484, 'gleam': 747, 'compact': 340, 'rang': 1352, 'actual': 12, 'complet': 349, 'ha': 794, 'excema': 592, 'hit': 836, 'everyday': 584, 'massiv': 1054, 'cap': 246, 'lenor': 969, 'unstopp': 1841, 'convert': 375, 'mild': 1079, 'messi': 1073, 'step': 1646, 'dad': 419, 'awhil': 107, 'suitabl': 1695, 'obviou': 1163, 'choic': 296, 'believ': 147, 'continu': 371, 'term': 1747, 'benefit': 151, 'happi': 805, 'alround': 48, 'consist': 365, 'dilut': 485, 'guess': 791, 'blue': 178, 'pigment': 1262, 'act': 11, 'reli': 1396, 'hydrat': 866, 'mixtur': 1094, 'varieti': 1852, 'reach': 1359, 'matter': 1056, 'neg': 1136, 'pump': 1333, 'end': 562, 'foam': 679, 'met': 1074, 'standard': 1635, 'bar': 118, 'quarter': 1343, 'truli': 1814, 'load': 997, 'sometim': 1590, 'stapl': 1636, 'heal': 818, 'abras': 2, 'boy': 199, 'store': 1657, 'cupboard': 412, 'dead': 430, 'therapi': 1755, 'origin': 1193, 'mini': 1082, 'arriv': 85, 'real': 1364, 'delight': 456, 'quick': 1346, 'subscrib': 1683, 'light': 977, 'bubbl': 224, 'floral': 673, 'masculin': 1051, 'bigger': 157, 'volum': 1871, 'garag': 725, 'known': 946, 'sweet': 1720, 'textur': 1752, 'artifici': 89, 'justv': 931, 'hour': 854, 'pale': 1213, 'disastr': 492, 'success': 1687, 'creat': 401, 'spot': 1624, 'abl': 1, 'deepli': 440, 'exfoli': 595, 'wont': 1929, 'suffer': 1690, 'babi': 108, 'style': 1680, 'genuin': 734, 'neatli': 1132, 'everyth': 586, 'shall': 1515, 'tresmemm': 1808, 'fussi': 721, 'suit': 1694, 'therefor': 1756, 'prefer': 1302, 'burst': 233, 'transit': 1803, 'snack': 1573, 'went': 1901, 'weekend': 1898, 'decid': 435, 'wet': 1902, 'cashmer': 260, 'sweater': 1719, 'sainsburi': 1456, 'scrummi': 1488, 'delic': 454, 'requir': 1411, 'bring': 215, 'runni': 1450, 'glam': 745, 'somewher': 1592, 'follow': 682, 'inexpens': 896, 'plain': 1265, 'mother': 1113, 'law': 959, 'wat': 1887, 'discount': 494, 'tin': 1775, 'sooth': 1598, 'residu': 1412, 'cool': 380, 'readi': 1363, 'magic': 1029, 'latest': 955, 'variat': 1851, 'address': 16, 'environment': 573, 'transport': 1804, 'cost': 386, 'commend': 335, 'sens': 1501, 'detect': 472, 'breath': 206, 'form': 689, 'slightli': 1553, 'zesti': 1962, 'user': 1846, 'repres': 1409, 'lessen': 970, 'impact': 879, 'environ': 572, 'albeit': 35, 'smallest': 1561, 'ideal': 871, 'son': 1593, 'adult': 20, 'children': 293, 'belov': 148, 'pet': 1251, 'incred': 892, 'lolli': 1000, 'bargain': 120, 'introduc': 911, 'partner': 1224, 'sadli': 1453, 'share': 1518, 'hot': 853, 'melt': 1067, 'drip': 530, 'finish': 661, 'favour': 639, 'properli': 1325, 'inferior': 897, 'tesco': 1749, 'microwav': 1078, 'sever': 1511, 'badli': 111, 'lumpi': 1019, 'mostli': 1110, 'simplic': 1540, 'gone': 760, 'effect': 549, 'trace': 1800, 'fanci': 632, 'maskara': 1052, 'remain': 1400, 'sticki': 1648, 'defin': 446, 'heavi': 822, 'frequent': 701, 'perhap': 1241, 'capsul': 248, 'household': 856, 'terribl': 1748, 'allerg': 37, 'constant': 366, 'hay': 814, 'fever': 650, 'wrong': 1946, 'sign': 1530, 'gluten': 756, 'casserol': 261, 'sat': 1465, 'toilet': 1784, 'barley': 122, 'coeliac': 325, 'peopl': 1235, 'unsuit': 1842, 'pick': 1258, 'signific': 1532, 'rel': 1393, 'sturdier': 1679, 'travel': 1805, 'hous': 855, 'tini': 1777, 'surfac': 1712, 'pic': 1257, 'wonder': 1927, 'deni': 459, 'fix': 665, 'instead': 906, 'whenev': 1904, 'react': 1360, 'true': 1813, 'luxuri': 1025, 'prime': 1313, 'conveni': 374, 'incorpor': 890, 'cleanser': 313, 'eventu': 581, 'margin': 1044, 'obvious': 1164, 'comment': 336, 'appreci': 76, 'break': 204, 'vegan': 1857, 'daughter': 427, 'persuad': 1249, 'hesit': 828, 'pay': 1231, 'forward': 694, 'soup': 1603, 'risotto': 1433, 'younger': 1958, 'menopaus': 1070, 'calm': 241, 'wrinkl': 1943, 'crepey': 403, 'layer': 961, 'conjunct': 361, 'hyaluron': 865, 'companion': 342, 'loss': 1007, 'firm': 662, 'oz': 1206, 'csmart': 408, 'screw': 1485, 'determin': 474, 'loos': 1006, 'knife': 944, 'wise': 1922, 'advoid': 24, 'smart': 1562, 'local': 998, 'okay': 1179, 'meant': 1062, 'equal': 574, 'artif': 88, 'upset': 1844, 'simpli': 1539, 'english': 566, 'mustard': 1123, 'colman': 329, 'sunday': 1699, 'roast': 1434, 'tube': 1816, 'invari': 912, 'serv': 1508, 'nozzl': 1160, 'block': 173, 'someon': 1588, 'scrub': 1487, 'extremli': 608, 'frangranc': 699, 'fairli': 626, 'spread': 1626, 'soak': 1576, 'smelt': 1567, 'wilkinson': 1915, 'area': 80, 'soon': 1594, 'becom': 140, 'scalp': 1475, 'satisfi': 1466, 'sorri': 1601, 'voucher': 1872, 'post': 1290, 'slimi': 1555, 'problem': 1318, 'unhappi': 1833, 'respons': 1414, 'treat': 1806, 'portug': 1288, 'miss': 1090, 'tea': 1737, 'straighten': 1661, 'curl': 414, 'damag': 422, 'seller': 1500, 'pod': 1279, 'bag': 113, 'filler': 655, 'rich': 1424, 'special': 1610, 'elsewher': 556, 'laundri': 958, 'hate': 811, 'arrog': 86, 'unilev': 1834, 'hold': 840, 'palm': 1214, 'fine': 658, 'paragon': 1218, 'champ': 275, 'tight': 1770, 'win': 1917, 'doubl': 514, 'struggl': 1674, 'tough': 1796, 'unbeliev': 1826, 'compliment': 350, 'august': 98, 'itchi': 920, 'stream': 1665, 'grandchildren': 772, 'unfortun': 1832, 'green': 780, 'lime': 981, 'individu': 893, 'dandruff': 425, 'anti': 63, 'prior': 1315, 'particular': 1221, 'busi': 234, 'mum': 1119, 'admit': 18, 'neglect': 1137, 'empathis': 559, 'trial': 1810, 'opportun': 1185, 'reconnect': 1380, 'cme': 322, 'smother': 1571, 'offens': 1172, 'alo': 41, 'applic': 74, 'bedtim': 142, 'verdict': 1861, 'thumb': 1767, 'ye': 1950, 'second': 1494, 'lightweight': 978, 'tendenc': 1745, 'pull': 1332, 'liber': 972, 'discreet': 496, 'overwhelm': 1205, 'protector': 1328, 'retain': 1417, 'ezyema': 614, 'switch': 1722, 'radiant': 1350, 'regim': 1388, 'thinner': 1761, 'heavili': 823, 'cancel': 245, 'subscript': 1684, 'wait': 1875, 'fyi': 723, 'attract': 97, 'floweri': 675, 'badeda': 110, 'holiday': 842, 'sun': 1697, 'till': 1773, 'stope': 1655, 'blow': 177, 'prevent': 1308, 'transform': 1802, 'nose': 1153, 'dehydr': 453, 'sort': 1602, 'rest': 1415, 'sleep': 1550, 'caramel': 249, 'marshmallow': 1048, 'liter': 993, 'calori': 243, 'bomb': 186, 'gross': 784, 'gonna': 761, 'throw': 1766, 'coca': 324, 'butter': 235, 'marmit': 1047, 'lover': 1013, 'glass': 746, 'jar': 925, 'oddli': 1169, 'given': 742, 'persev': 1244, 'shini': 1525, 'root': 1438, 'drier': 529, 'grown': 787, 'horribl': 851, 'agre': 33, 'tighter': 1771, 'import': 880, 'confus': 360, 'milk': 1081, 'maker': 1035, 'risk': 1432, 'underwear': 1831, 'ultra': 1825, 'twice': 1820, 'combin': 332, 'harmoni': 809, 'chicken': 291, 'mushroom': 1122, 'pie': 1260, 'salt': 1459, 'ruin': 1448, 'chuck': 302, 'tongu': 1791, 'season': 1493, 'accident': 7, 'swallow': 1716, 'sea': 1490, 'xd': 1947, 'older': 1181, 'wide': 1912, 'awak': 104, 'flakey': 666, 'smelli': 1565, 'pit': 1263, 'plenti': 1274, 'longer': 1002, 'comparison': 344, 'yo': 1955, 'born': 192, 'defient': 445, 'odourless': 1171, 'suppl': 1707, 'nightli': 1146, 'bed': 141, 'clog': 319, 'pore': 1286, 'replenish': 1408, 'daytim': 429, 'reappli': 1368, 'overnight': 1203, 'unscent': 1838, 'patch': 1229, 'stone': 1653, 'munchi': 1120, 'food': 684, 'depend': 463, 'wish': 1923, 'talk': 1725, 'visit': 1870, 'certifi': 271, 'british': 216, 'foundat': 695, 'freshli': 704, 'launder': 957, 'reliabl': 1397, 'cooler': 381, 'wahs': 1874, 'soapi': 1578, 'type': 1821, 'downsid': 517, 'hole': 841, 'tresemm': 1807, 'stand': 1634, 'yummi': 1961, 'sugari': 1692, 'eco': 543, 'parcel': 1219, 'brain': 200, 'op': 1182, 'wife': 1913, 'safe': 1454, 'recomend': 1378, 'aswel': 94, 'moist': 1098, 'surf': 1711, 'stay': 1643, 'articl': 87, 'acn': 10, 'scar': 1476, 'opposit': 1186, 'life': 975, 'visibl': 1869, 'fade': 622, 'dermatologist': 465, 'game': 724, 'changer': 278, 'main': 1032, 'test': 1750, 'singl': 1543, 'mayo': 1059, 'bod': 181, 'bat': 127, 'quench': 1344, 'fell': 647, 'cooki': 379, 'dough': 515, 'superdrug': 1704, 'prize': 1316, 'buzz': 238, 'limit': 983, 'edit': 548, 'stayer': 1644, 'scratchi': 1483, 'rip': 1430, 'mistreat': 1092, 'dock': 503, 'reus': 1419, 'revitalis': 1421, 'gentli': 733, 'impur': 885, 'servic': 1509, 'fault': 636, 'rocemmend': 1435, 'almond': 40, 'mouth': 1114, 'fave': 637, 'dark': 426, 'passion': 1226, 'narrow': 1126, 'accur': 8, 'slim': 1554, 'pourer': 1295, 'dribbl': 528, 'washload': 1885, 'flower': 674, 'hint': 835, 'fruit': 711, 'mango': 1039, 'brought': 220, 'cornet': 383, 'luvli': 1023, 'carri': 258, 'worri': 1935, 'man': 1037, 'choos': 297, 'sweat': 1718, 'mayonnais': 1060, 'substanc': 1685, 'squeezi': 1629, 'geniu': 731, 'idea': 870, 'tall': 1726, 'unstabl': 1840, 'ive': 924, 'fridg': 705, 'tumbl': 1817, 'brittl': 217, 'shatter': 1521, 'groundhog': 785, 'cri': 404, 'overhaul': 1201, 'curri': 416, 'besid': 153, 'sachet': 1452, 'edibl': 547, 'phenomen': 1254, 'function': 717, 'longest': 1003, 'rid': 1426, 'kept': 934, 'drawback': 521, 'suppli': 1708, 'wear': 1894, 'diabet': 478, 'carbohydr': 252, 'nutrit': 1162, 'inform': 898, 'whatsoev': 1903, 'wall': 1878, 'specif': 1611, 'portion': 1287, 'whitehead': 1910, 'bash': 124, 'inadvert': 886, 'deterg': 473, 'fairi': 625, 'joint': 929, 'biolog': 162, 'septic': 1506, 'tank': 1729, 'dispens': 499, 'insert': 901, 'suffici': 1691, 'condit': 356, 'competit': 346, 'hav': 812, 'btilliant': 222, 'wild': 1914, 'enthusiast': 569, 'err': 575, 'gener': 730, 'custom': 417, 'write': 1945, 'uncomfort': 1830, 'clash': 307, 'coat': 323, 'sickli': 1529, 'raspberri': 1356, 'cover': 394, 'core': 382, 'remind': 1403, 'cheapest': 283, 'imagin': 875, 'insipid': 902, 'rush': 1451, 'develop': 475, 'process': 1320, 'bitter': 165, 'rippl': 1431, 'consid': 363, 'lush': 1022, 'suggest': 1693, 'petrolatum': 1252, 'damp': 423, 'eczema': 546, 'rosacea': 1440, 'coz': 396, 'wors': 1936, 'apprehens': 77, 'broken': 219, 'fit': 664, 'purpos': 1339, 'sport': 1623, 'mad': 1028, 'teenag': 1739, 'promis': 1322, 'moisturisor': 1102, 'deoder': 460, 'discov': 495, 'shame': 1516, 'broke': 218, 'manli': 1041, 'foami': 680, 'wondr': 1928, 'variou': 1853, 'chamomil': 274, 'weight': 1900, 'thicker': 1758, 'space': 1605, 'nicest': 1144, 'bo': 179, 'beater': 138, 'plainli': 1266, 'bright': 208, 'bold': 185, 'grudg': 788, 'dirti': 489, 'tablet': 1723, 'necess': 1133, 'weekli': 1899, 'groceri': 783, 'budget': 226, 'cake': 240, 'exot': 597, 'veget': 1858, 'ariel': 81, 'domin': 509, 'global': 750, 'consum': 367, 'giant': 736, 'expert': 602, 'dodgi': 505, 'imit': 876, 'sub': 1681, 'guarante': 790, 'high': 831, 'rubberi': 1446, 'gossam': 765, 'case': 259, 'brightli': 211, 'funki': 718, 'purpl': 1338, 'grey': 782, 'swirl': 1721, 'gu': 789, 'outsid': 1196, 'grade': 769, 'disappear': 490, 'mysteri': 1124, 'sphinx': 1617, 'giza': 743, 'bermuda': 152, 'triangl': 1811, 'voynich': 1873, 'manuscript': 1043, 'xlarg': 1948, 'discontinu': 493, 'option': 1188, 'limescal': 982, 'unclog': 1829, 'wake': 1876, 'plump': 1277, 'ill': 873, 'pun': 1334, 'intend': 908, 'altern': 49, 'forth': 692, 'healthier': 820, 'advic': 22, 'minimum': 1083, 'annoy': 60, 'asid': 91, 'run': 1449, 'plug': 1276, 'potenti': 1293, 'increas': 891, 'member': 1068, 'endors': 563, 'practic': 1299, 'nappi': 1125, 'pyramid': 1340, 'warm': 1881, 'present': 1304, 'st': 1631, 'rememb': 1402, 'repurchas': 1410, 'figur': 654, 'medicin': 1064, 'cabinet': 239, 'salti': 1460, 'yeast': 1952, 'honest': 845, 'toast': 1781, 'fluctuat': 676, 'particulr': 1223, 'watch': 1888, 'smellllllll': 1566, 'sauna': 1468, 'outstand': 1197, 'turkey': 1818, 'neck': 1134, 'shake': 1513, 'graviti': 776, 'vastli': 1855, 'sharp': 1520, 'begin': 145, 'assum': 93, 'grow': 786, 'ocado': 1165, 'sampl': 1461, 'state': 1640, 'formula': 691, 'correct': 385, 'later': 954, 'boost': 190, 'sooo': 1596, 'complaint': 348, 'concept': 353, 'recal': 1370, 'tetra': 1751, 'public': 1330, 'innov': 900, 'refil': 1385, 'cardboard': 255, 'dose': 513, 'counter': 390, 'read': 1362, 'print': 1314, 'wrapper': 1942, 'magnif': 1030, 'anim': 57, 'whilst': 1907, 'provid': 1329, 'headquart': 817, 'offic': 1174, 'produc': 1321, 'countri': 391, 'sale': 1458, 'carbon': 253, 'footprint': 685, 'torn': 1793, 'extrat': 606, 'wherea': 1905, 'secondli': 1495, 'spare': 1608, 'rib': 1423, 'persdper': 1243, 'reorder': 1405, 'somewhat': 1591, 'feminin': 649, 'perspir': 1248, 'danc': 424, 'bay': 133, 'waxi': 1892, 'shark': 1519, 'ben': 149, 'jerri': 927, 'fragrant': 698, 'bargin': 121, 'vanilla': 1850, 'iritatw': 914, 'tbh': 1736, 'loo': 1004, 'conceal': 351, 'moment': 1103, 'coverag': 395, 'brighten': 209, 'glowi': 754, 'perfectli': 1238, 'view': 1867, 'consciou': 362, 'paper': 1217, 'temperament': 1742, 'lazi': 962, 'girl': 739, 'solut': 1586, 'deep': 439, 'repeat': 1407, 'versatil': 1864, 'heel': 824, 'econom': 544, 'defo': 451, 'direct': 487, 'chronic': 300, 'chapstick': 279, 'jot': 930, 'bob': 180, 'uncl': 1828, 'awesom': 106, 'doeant': 506, 'soggi': 1583, 'mess': 1072, 'dish': 498, 'lux': 1024, 'plan': 1267, 'kcal': 932, 'control': 373, 'diet': 481, 'biodegrad': 161, 'forev': 687, 'blackhead': 166, 'zone': 1963, 'fed': 643, 'tone': 1788, 'anymor': 65, 'bland': 167, 'wateri': 1890, 'gold': 759, 'spring': 1627, 'cold': 327, 'cardigan': 256, 'thirti': 1762, 'degre': 452, 'tie': 1769, 'boil': 183, 'bikini': 158, 'dedic': 438, 'ylang': 1954, 'town': 1798, 'aaaaamaz': 0, 'tattoooo': 1735, 'previous': 1310, 'admir': 17, 'blast': 168, 'whiff': 1906, 'planet': 1268, 'pollut': 1281, 'funni': 720, 'cone': 358, 'crispi': 405, 'cornetto': 384, 'flare': 668, 'itch': 919, 'crazi': 398, 'escap': 577, 'lift': 976, 'drop': 531, 'instantli': 905, 'relief': 1398, 'effortlessli': 552, 'alot': 44, 'effici': 550, 'linen': 985, 'pre': 1301, 'extract': 605, 'honey': 847, 'suckl': 1688, 'yesterday': 1953, 'perman': 1242, 'cherri': 289, 'blossom': 175, 'pea': 1232, 'sandal': 1463, 'wood': 1930, 'cup': 411, 'lunch': 1020, 'king': 940, 'gram': 771, 'antiperspir': 64, 'unblock': 1827, 'gradual': 770, 'pleasantli': 1272, 'surpris': 1713, 'cours': 393, 'fcuk': 641, 'opt': 1187, 'starter': 1639, 'newborn': 1140, 'gym': 793, 'hunger': 861, 'challeng': 273, 'strength': 1667, 'endur': 564, 'helmann': 826, 'bone': 188, 'tendon': 1746, 'appeal': 72, 'advantag': 21, 'citru': 305, 'muscl': 1121, 'bump': 229, 'ador': 19, 'handi': 801, 'persist': 1246, 'whitout': 1911, 'sin': 1541, 'spend': 1614, 'woken': 1925, 'reiment': 1392, 'smudg': 1572, 'novelti': 1159, 'fish': 663, 'quantiti': 1342, 'deodour': 462, 'swear': 1717, 'arkward': 82, 'kick': 937, 'sent': 1504, 'toiletri': 1785, 'linnen': 988, 'film': 656, 'teeth': 1740, 'ceram': 267, 'realis': 1365, 'cent': 265, 'gooey': 763, 'marshmallowey': 1049, 'phish': 1255, 'class': 308, 'spain': 1607, 'breakout': 205, 'intoler': 910, 'superior': 1705, 'alon': 43, 'thiught': 1763, 'cojld': 326, 'garnier': 726, 'apar': 70, 'stripey': 1671, 'feet': 646, 'orang': 1189, 'stink': 1651, 'moral': 1107, 'stori': 1658, 'format': 690, 'shave': 1522, 'dress': 526, 'fewer': 651, 'worn': 1934, 'meet': 1066, 'amazingli': 54, 'flavor': 670, 'powderi': 1297, 'exempt': 594, 'medium': 1065, 'annoyiji': 61, 'occas': 1166, 'immedi': 877, 'serum': 1507, 'contribut': 372, 'deco': 437, 'women': 1926, 'eldest': 554, 'forgotten': 688, 'chew': 290, 'rope': 1439, 'school': 1479, 'lie': 974, 'nother': 1156, 'automat': 100, 'gloopi': 751, 'drugstor': 532, 'brainer': 201, 'partnership': 1225, 'encourag': 561, 'spici': 1618, 'fear': 642, 'spilt': 1620, 'alright': 47, 'gotta': 767, 'cetearyl': 272, 'cif': 304, 'power': 1298, 'mirror': 1087, 'nightmar': 1147, 'fun': 716, 'ordinari': 1191, 'thicken': 1757, 'gravi': 775, 'pop': 1284, 'press': 1306, 'spell': 1613, 'scali': 1474, 'quid': 1348, 'tempt': 1743, 'everytim': 587, 'spf': 1616, 'critic': 407, 'uva': 1848, 'convinc': 376, 'refer': 1384, 'batteri': 132, 'verifi': 1862, 'overli': 1202, 'allergi': 38, 'certain': 269, 'bondi': 187, 'sand': 1462, 'slight': 1552, 'fabul': 617, 'hike': 833, 'itsel': 922, 'frizz': 708, 'flat': 669, 'lank': 949, 'bounc': 196, 'stuck': 1676, 'unus': 1843, 'cooker': 378, 'invigor': 913, 'newer': 1141, 'rd': 1358, 'isnt': 917, 'cerav': 268, 'norm': 1151, 'begun': 146, 'calmer': 242, 'sciencey': 1480, 'id': 869, 'unless': 1835, 'anytim': 68, 'indulg': 895, 'bite': 164, 'dog': 508, 'micro': 1077, 'granul': 773, 'wari': 1880, 'stainless': 1633, 'steel': 1645, 'liquidi': 991, 'velvet': 1859, 'hopingthat': 850, 'fair': 624, 'btw': 223, 'instruct': 907, 'typic': 1822, 'dy': 537, 'tong': 1790, 'question': 1345, 'clip': 318, 'sensat': 1502, 'definatli': 447, 'surprisingli': 1714, 'shock': 1526, 'litr': 994, 'imo': 878, 'salad': 1457, 'bake': 114, 'bean': 135, 'frozen': 710, 'pear': 1233, 'youth': 1959, 'anitipersperi': 58, 'accustom': 9, 'richer': 1425, 'bundl': 230, 'low': 1014, 'carb': 250, 'duti': 536, 'sock': 1579, 'fraction': 696, 'loveliest': 1012, 'wrist': 1944, 'drum': 533, 'modest': 1097, 'inch': 888, 'god': 757, 'somebodi': 1587, 'brazil': 203, 'expat': 598, 'bearabl': 136, 'vfm': 1866, 'head': 815, 'winner': 1919, 'iv': 923, 'batgain': 129, 'averag': 101, 'oreal': 1192, 'resist': 1413, 'girlfriend': 740, 'mention': 1071, 'benefici': 150, 'list': 992, 'chanc': 276, 'transfer': 1801, 'snif': 1575, 'commit': 338, 'stiff': 1649, 'kg': 936, 'alobg': 42, 'matur': 1057, 'hiya': 838, 'stress': 1668, 'pricey': 1312, 'reliev': 1399, 'final': 657, 'tropic': 1812, 'lili': 980, 'mud': 1116, 'spag': 1606, 'bol': 184, 'attent': 96, 'lingeri': 987, 'cotton': 388, 'silk': 1535, 'fiber': 652, 'gigant': 738, 'possibl': 1289, 'lash': 952, 'eyebrow': 611, 'hide': 830, 'sunshin': 1701, 'clingi': 317, 'greazi': 779, 'advis': 23, 'rare': 1354, 'desir': 469, 'blotch': 176, 'brown': 221, 'attach': 95, 'ignor': 872, 'fortun': 693, 'fulfil': 714, 'criteria': 406, 'wilt': 1916, 'yard': 1949, 'radiu': 1351, 'alarm': 34, 'whisk': 1908, 'drainag': 520, 'devin': 476, 'signatur': 1531, 'haha': 795, 'saver': 1470, 'pamper': 1215, 'heheh': 825, 'hunk': 862, 'shelf': 1523, 'unscrew': 1839, 'glove': 752, 'odd': 1168, 'horrif': 852, 'headach': 816, 'desper': 470, 'afraid': 27, 'disturb': 501, 'properti': 1326, 'fluff': 677, 'dryness': 534, 'unpleas': 1837, 'seal': 1491, 'drain': 519, 'yogurt': 1956, 'alpro': 45, 'blop': 174, 'postag': 1291, 'doctor': 504, 'soooo': 1597, 'walk': 1877, 'pervas': 1250, 'sky': 1549, 'fruiti': 712, 'strike': 1669, 'balanc': 115, 'slurp': 1558, 'reckon': 1376, 'nearer': 1130, 'path': 1230, 'decidedli': 436, 'newsweek': 1142, 'fluffi': 678, 'smoother': 1569, 'hive': 837, 'aggrav': 31, 'wool': 1931, 'chsnge': 301, 'remark': 1401, 'specifi': 1612, 'conclus': 355, 'lure': 1021, 'entic': 570, 'squint': 1630, 'reviv': 1422, 'fallen': 628, 'deffinalti': 443, 'fond': 683, 'poor': 1282, 'consider': 364, 'dinner': 486, 'parti': 1220, 'everybodi': 583, 'jelli': 926, 'loyal': 1015, 'balm': 116, 'finger': 659, 'color': 330, 'petroleum': 1253, 'shadow': 1512, 'appropri': 79, 'tidi': 1768, 'eyelin': 612, 'error': 576, 'spars': 1609, 'bud': 225, 'homemad': 844, 'brill': 212, 'row': 1444, 'roll': 1436, 'shaken': 1514, 'disgust': 497, 'contact': 368, 'suddenli': 1689, 'alth': 50, 'insread': 904, 'toxic': 1799, 'dud': 535, 'split': 1621, 'cautiou': 263, 'lucki': 1017, 'monthli': 1106, 'beed': 143, 'scrib': 1486, 'hurt': 863, 'glitter': 749, 'ankl': 59, 'drawer': 522, 'bovril': 197, 'moan': 1096, 'arm': 83, 'significantli': 1533, 'strang': 1662, 'bleach': 169, 'occasion': 1167, 'recognis': 1377, 'cedarwood': 264, 'popular': 1285, 'bother': 193, 'dozen': 518, 'blindingli': 172, 'leg': 968, 'tanner': 1730, 'stronger': 1673, 'street': 1666, 'veg': 1856, 'cube': 409, 'batch': 128, 'recipebut': 1375, 'secret': 1496, 'mile': 1080, 'hr': 858, 'sedentari': 1498, 'worst': 1937, 'verri': 1863, 'hi': 829, 'uk': 1823, 'anywher': 69, 'massag': 1053, 'keen': 933, 'ban': 117, 'sneaki': 1574, 'woke': 1924, 'sunk': 1700, 'tacki': 1724, 'surviv': 1715, 'brexit': 207, 'defintley': 450, 'die': 480, 'em': 558, 'pregnant': 1303, 'moisteris': 1099, 'lost': 1008, 'count': 389, 'streaki': 1664, 'capful': 247, 'common': 339, 'loyalti': 1016, 'sooner': 1595, 'mostur': 1111, 'definetli': 448, 'mostureris': 1112, 'tissu': 1780, 'pain': 1212, 'pleasur': 1273, 'happili': 806, 'vera': 1860, 'directli': 488, 'allow': 39, 'subject': 1682, 'greenhous': 781, 'gase': 727, 'ultim': 1824, 'fight': 653, 'tire': 1779, 'drawn': 523, 'child': 292, 'dosag': 512, 'statement': 1641, 'worthwhil': 1939, 'sorbet': 1599, 'focus': 681, 'exact': 589, 'costco': 387, 'curiou': 413, 'baffl': 112, 'elviv': 557, 'realiz': 1366, 'silicon': 1534, 'hairdress': 797, 'appoint': 75, 'defenc': 441, 'purifi': 1337, 'pralin': 1300, 'choc': 294, 'solero': 1585}\n"
     ]
    }
   ],
   "source": [
    "count_vectorizer  = CountVectorizer(stop_words='english')\n",
    "count_vectorizer.fit(X_train)\n",
    "print('\\nVocabulary: \\n', count_vectorizer.vocabulary_)\n",
    "\n",
    "train_c = count_vectorizer.fit_transform(X_train)\n",
    "test_c = count_vectorizer.transform(X_test)"
   ]
  },
  {
   "cell_type": "markdown",
   "metadata": {},
   "source": [
    "### Multinomial Naive Bayes model"
   ]
  },
  {
   "cell_type": "code",
   "execution_count": 65,
   "metadata": {},
   "outputs": [],
   "source": [
    "#IMPLEMENTING AND RUNNNING MNB MODEL - COUNT\n",
    "mnb1 = MultinomialNB()\n",
    "mnb1.fit(train_c, y_train)\n",
    "prediction = mnb1.predict(test_c)"
   ]
  },
  {
   "cell_type": "code",
   "execution_count": 66,
   "metadata": {},
   "outputs": [
    {
     "name": "stdout",
     "output_type": "stream",
     "text": [
      "NAIVE BAYES EVALUATION - COUNT VECTORIZER\n",
      "Accuracy:  80.43795620437956\n",
      "Precision:  80.83067092651757\n",
      "Recall:  77.37003058103976\n",
      "F1 score:  79.0625\n"
     ]
    }
   ],
   "source": [
    "#EVALUATION\n",
    "mnb_a1 = accuracy_score(y_test, prediction)*100\n",
    "mnb_p1 = precision_score(y_test, prediction)* 100\n",
    "mnb_r1 = recall_score(y_test, prediction)*100\n",
    "mnb_f11 = f1_score(y_test, prediction)*100\n",
    "\n",
    "print('NAIVE BAYES EVALUATION - COUNT VECTORIZER')\n",
    "print('Accuracy: ', mnb_a1)\n",
    "print('Precision: ', mnb_p1)\n",
    "print('Recall: ', mnb_r1)\n",
    "print('F1 score: ', mnb_f11)"
   ]
  },
  {
   "cell_type": "code",
   "execution_count": 67,
   "metadata": {},
   "outputs": [
    {
     "data": {
      "text/plain": [
       "<sklearn.metrics._plot.confusion_matrix.ConfusionMatrixDisplay at 0x203ad08f670>"
      ]
     },
     "execution_count": 67,
     "metadata": {},
     "output_type": "execute_result"
    },
    {
     "data": {
      "image/png": "[encoded data removed]",
      "text/plain": [
       "<Figure size 432x288 with 2 Axes>"
      ]
     },
     "metadata": {
      "needs_background": "light"
     },
     "output_type": "display_data"
    }
   ],
   "source": [
    "#CONFUSION MATRIX\n",
    "cm =  confusion_matrix(y_test, prediction, labels=mnb1.classes_)\n",
    "display = ConfusionMatrixDisplay(confusion_matrix=cm,\n",
    "                              display_labels=mnb1.classes_) \n",
    "display.plot() "
   ]
  },
  {
   "cell_type": "markdown",
   "metadata": {},
   "source": [
    "### Support Vector Machine model"
   ]
  },
  {
   "cell_type": "code",
   "execution_count": 68,
   "metadata": {},
   "outputs": [],
   "source": [
    "#IMPLEMENTING AND RUNNNING SVM MODEL - COUNT\n",
    "svm1 = SVC(kernel='linear')\n",
    "svm1.fit(train_c, y_train)\n",
    "prediction = svm1.predict(test_c)"
   ]
  },
  {
   "cell_type": "code",
   "execution_count": 69,
   "metadata": {},
   "outputs": [
    {
     "name": "stdout",
     "output_type": "stream",
     "text": [
      "SUPPORT VECTOR MACHINE EVALUATION - COUNT VECTORIZER\n",
      "Accuracy:  84.23357664233576\n",
      "Precision:  79.35656836461126\n",
      "Recall:  90.51987767584097\n",
      "F1 score:  84.57142857142857\n"
     ]
    }
   ],
   "source": [
    "#EVALUATION\n",
    "svm_a1 = accuracy_score(y_test, prediction)*100\n",
    "svm_p1 = precision_score(y_test, prediction)* 100\n",
    "svm_r1 = recall_score(y_test, prediction)*100\n",
    "svm_f11 = f1_score(y_test, prediction)*100\n",
    "\n",
    "print('SUPPORT VECTOR MACHINE EVALUATION - COUNT VECTORIZER')\n",
    "print('Accuracy: ', svm_a1)\n",
    "print('Precision: ', svm_p1)\n",
    "print('Recall: ', svm_r1)\n",
    "print('F1 score: ', svm_f11)"
   ]
  },
  {
   "cell_type": "code",
   "execution_count": 70,
   "metadata": {},
   "outputs": [
    {
     "data": {
      "text/plain": [
       "<sklearn.metrics._plot.confusion_matrix.ConfusionMatrixDisplay at 0x203ad3e34c0>"
      ]
     },
     "execution_count": 70,
     "metadata": {},
     "output_type": "execute_result"
    },
    {
     "data": {
      "image/png": "[encoded data removed]",
      "text/plain": [
       "<Figure size 432x288 with 2 Axes>"
      ]
     },
     "metadata": {
      "needs_background": "light"
     },
     "output_type": "display_data"
    }
   ],
   "source": [
    "#CONFUSION MATRIX\n",
    "cm =  confusion_matrix(y_test, prediction, labels=svm1.classes_)\n",
    "display = ConfusionMatrixDisplay(confusion_matrix=cm,\n",
    "                              display_labels=svm1.classes_) \n",
    "display.plot() "
   ]
  },
  {
   "cell_type": "markdown",
   "metadata": {},
   "source": [
    "### Logistic Regression model"
   ]
  },
  {
   "cell_type": "code",
   "execution_count": 71,
   "metadata": {},
   "outputs": [],
   "source": [
    "#IMPLEMENTING AND RUNNNING LR MODEL - COUNT\n",
    "lr1 = LogisticRegression()\n",
    "lr1.fit(train_c, y_train)\n",
    "prediction = lr1.predict(test_c)"
   ]
  },
  {
   "cell_type": "code",
   "execution_count": 72,
   "metadata": {},
   "outputs": [
    {
     "name": "stdout",
     "output_type": "stream",
     "text": [
      "LOGISTIC REGRESSION EVALUATION - COUNT VECTORIZER\n",
      "Accuracy:  84.96350364963504\n",
      "Precision:  79.62962962962963\n",
      "Recall:  92.04892966360856\n",
      "F1 score:  85.39007092198581\n"
     ]
    }
   ],
   "source": [
    "#EVALUATION\n",
    "lr_a1 = accuracy_score(y_test, prediction)*100\n",
    "lr_p1 = precision_score(y_test, prediction)* 100\n",
    "lr_r1 = recall_score(y_test, prediction)*100\n",
    "lr_f11 = f1_score(y_test, prediction)*100\n",
    "\n",
    "print('LOGISTIC REGRESSION EVALUATION - COUNT VECTORIZER')\n",
    "print('Accuracy: ', lr_a1)\n",
    "print('Precision: ', lr_p1)\n",
    "print('Recall: ', lr_r1)\n",
    "print('F1 score: ', lr_f11)"
   ]
  },
  {
   "cell_type": "code",
   "execution_count": 73,
   "metadata": {},
   "outputs": [
    {
     "data": {
      "text/plain": [
       "<sklearn.metrics._plot.confusion_matrix.ConfusionMatrixDisplay at 0x203ad405a00>"
      ]
     },
     "execution_count": 73,
     "metadata": {},
     "output_type": "execute_result"
    },
    {
     "data": {
      "image/png": "[encoded data removed]",
      "text/plain": [
       "<Figure size 432x288 with 2 Axes>"
      ]
     },
     "metadata": {
      "needs_background": "light"
     },
     "output_type": "display_data"
    }
   ],
   "source": [
    "#CONFUSION MATRIX\n",
    "cm =  confusion_matrix(y_test, prediction, labels=lr1.classes_)\n",
    "display = ConfusionMatrixDisplay(confusion_matrix=cm,\n",
    "                              display_labels=lr1.classes_) \n",
    "display.plot() "
   ]
  },
  {
   "cell_type": "markdown",
   "metadata": {},
   "source": [
    "## TFIDF VECTORIZER AND MODELING\n",
    "\n",
    "We examine the total document weightage of a word in TfidfVectorizer. It assists us in coping with the most common terms. We may use it to penalize them. The word counts are weighted by a measure of how frequently they appear in the documents in TfidfVectorizer."
   ]
  },
  {
   "cell_type": "code",
   "execution_count": 74,
   "metadata": {},
   "outputs": [
    {
     "name": "stdout",
     "output_type": "stream",
     "text": [
      "\n",
      "Vocabulary: \n",
      " {'current': 415, 'sell': 1499, 'price': 1311, 'compar': 343, 'supermarket': 1706, 'good': 762, 'smell': 1564, 'pleasant': 1271, 'need': 1135, 'add': 14, 'small': 1559, 'cloth': 321, 'fresh': 702, 'great': 778, 'moisturis': 1101, 'sensit': 1503, 'love': 1011, 'pour': 1294, 'smaller': 1560, 'bottl': 194, 'make': 1034, 'manag': 1038, 'beat': 137, 'decent': 434, 'fabric': 616, 'soften': 1581, 'nice': 1143, 'fragranc': 697, 'purchas': 1335, 'deliveri': 458, 'cream': 399, 'handwash': 803, 'cheaper': 282, 'hand': 800, 'better': 155, 'liquid': 990, 'oh': 1175, 'wing': 1918, 'dove': 516, 'kitchen': 942, 'bathroom': 131, 'shower': 1528, 'room': 1437, 'recommend': 1379, 'highli': 832, 'star': 1637, 'simpl': 1538, 'gel': 729, 'like': 979, 'glue': 755, 'hard': 807, 'rub': 1445, 'slip': 1556, 'bath': 130, 'goe': 758, 'smoothli': 1570, 'easili': 541, 'wast': 1886, 'leav': 966, 'feel': 645, 'silki': 1536, 'soft': 1580, 'scenti': 1478, 'review': 1420, 'collect': 328, 'promot': 1323, 'excel': 591, 'everi': 582, 'day': 428, 'facial': 619, 'wash': 1883, 'excess': 593, 'face': 618, 'strip': 1670, 'natur': 1128, 'oil': 1176, 'care': 257, 'routin': 1443, 'morn': 1109, 'night': 1145, 'clean': 310, 'brilliant': 214, 'offer': 1173, 'gorgeou': 764, 'amaz': 52, 'valu': 1849, 'girli': 741, 'hair': 796, 'buy': 236, 'chang': 277, 'preserv': 1305, 'come': 333, 'bad': 109, 'sore': 1600, 'rash': 1355, 'eye': 610, 'burn': 231, 'lip': 989, 'tingl': 1776, 'phone': 1256, 'told': 1786, 'stuff': 1678, 'ask': 92, 'said': 1455, 'know': 945, 'want': 1879, 'reason': 1369, 'mayb': 1058, 'save': 1469, 'money': 1104, 'ingredi': 899, 'nearli': 1131, 'year': 1951, 'sinc': 1542, 'nivea': 1148, 'sold': 1584, 'compani': 341, 'german': 735, 'im': 874, 'realli': 1367, 'angri': 56, 'suppos': 1709, 'ok': 1178, 'rubbish': 1447, 'burnt': 232, 'pleas': 1270, 'usual': 1847, 'stock': 1652, 'fulli': 715, 'asda': 90, 'gave': 728, 'refund': 1387, 'gift': 737, 'card': 254, 'receipt': 1372, 'pocket': 1278, 'condition': 357, 'normal': 1152, 'oili': 1177, 'week': 1897, 'saw': 1471, 'differ': 482, 'felt': 648, 'cleans': 312, 'clearer': 315, 'notic': 1157, 'straightaway': 1660, 'red': 1382, 'blemish': 170, 'previou': 1309, 'kid': 938, 'doesnt': 507, 'irrit': 916, 'scent': 1477, 'littl': 995, 'bit': 163, 'long': 1001, 'way': 1893, 'similar': 1537, 'perfect': 1237, 'got': 766, 'coupl': 392, 'ago': 32, 'refresh': 1386, 'bodi': 182, 'smooth': 1568, 'cucumb': 410, 'relax': 1394, 'best': 154, 'came': 244, 'separ': 1505, 'packet': 1209, 'sealabl': 1492, 'affect': 25, 'rough': 1441, 'dri': 527, 'otherwis': 1194, 'fantast': 633, 'lot': 1009, 'effort': 551, 'reduc': 1383, 'plastic': 1269, 'concentr': 352, 'buyer': 237, 'say': 1472, 'larger': 951, 'probabl': 1317, 'explain': 603, 'label': 947, 'fuchsia': 713, 'perfum': 1240, 'version': 1865, 'overpow': 1204, 'big': 156, 'plu': 1275, 'difficulti': 484, 'intens': 909, 'past': 1227, 'note': 1154, 'outer': 1195, 'sleev': 1551, 'recycl': 1381, 'dispos': 500, 'charg': 280, 'kind': 939, 'overbear': 1200, 'anyon': 66, 'glow': 753, 'afford': 26, 'comfort': 334, 'creation': 402, 'round': 1442, 'market': 1046, 'close': 320, 'match': 1055, 'honeysuckl': 848, 'sandalwood': 1464, 'person': 1247, 'favourit': 640, 'howev': 857, 'descript': 467, 'ad': 13, 'recent': 1374, 'amazon': 55, 'pantri': 1216, 'order': 1190, 'lamin': 948, 'tile': 1772, 'floor': 672, 'subtl': 1686, 'streak': 1663, 'free': 700, 'shine': 1524, 'moistur': 1100, 'essenti': 579, 'tri': 1809, 'time': 1774, 'today': 1782, 'packag': 1208, 'easi': 539, 'open': 1183, 'squeez': 1628, 'releas': 1395, 'puff': 1331, 'froth': 709, 'pure': 1336, 'smear': 1563, 'white': 1909, 'absorb': 4, 'non': 1149, 'greasi': 777, 'appli': 73, 'think': 1760, 'expens': 600, 'cheap': 281, 'qualiti': 1341, 'dairi': 421, 'aroma': 84, 'dont': 510, 'drench': 525, 'lotion': 1010, 'pretti': 1307, 'worth': 1938, 'thank': 1753, 'item': 921, 'describ': 466, 'rapid': 1353, 'stop': 1654, 'static': 1642, 'chocol': 295, 'flavour': 671, 'creami': 400, 'soap': 1577, 'anyth': 67, 'els': 555, 'lather': 956, 'noth': 1155, 'fail': 623, 'protect': 1327, 'gentl': 732, 'basic': 126, 'harm': 808, 'nourish': 1158, 'tasti': 1734, 'beef': 144, 'tomato': 1787, 'grate': 774, 'cheddar': 285, 'chees': 287, 'mix': 1093, 'nd': 1129, 'let': 971, 'sit': 1545, 'minut': 1085, 'regret': 1389, 'set': 1510, 'took': 1792, 'expect': 599, 'size': 1547, 'persil': 1245, 'quit': 1349, 'pictur': 1259, 'mislead': 1089, 'apart': 71, 'cheer': 286, 'makeup': 1036, 'eas': 538, 'micellar': 1076, 'water': 1889, 'left': 967, 'pack': 1207, 'extra': 604, 'impresss': 883, 'content': 370, 'aw': 103, 'cut': 418, 'right': 1428, 'fingernail': 660, 'turn': 1819, 'upsid': 1845, 'approach': 78, 'empti': 560, 'ridicul': 1427, 'design': 468, 'bought': 195, 'lumber': 1018, 'home': 843, 'larg': 950, 'decant': 433, 'exist': 596, 'contain': 369, 'tell': 1741, 'straight': 1659, 'away': 105, 'despit': 471, 'compart': 345, 'machin': 1027, 'towel': 1797, 'unlik': 1836, 'manufactur': 1042, 'healthi': 819, 'definit': 449, 'forese': 686, 'futur': 722, 'gotten': 768, 'result': 1416, 'brillant': 213, 'brand': 202, 'absolut': 3, 'fan': 631, 'wow': 1940, 'factor': 621, 'base': 123, 'commerci': 337, 'help': 827, 'disappoint': 491, 'especi': 578, 'point': 1280, 'ice': 868, 'chunk': 303, 'difficult': 483, 'eat': 542, 'entir': 571, 'tub': 1815, 'nasti': 1127, 'chemic': 288, 'super': 1702, 'famili': 630, 'young': 1957, 'old': 1180, 'friendli': 707, 'mean': 1061, 'colour': 331, 'honestli': 846, 'problemat': 1319, 'prone': 1324, 'dermat': 464, 'tast': 1733, 'weed': 1896, 'vinegar': 1868, 'work': 1933, 'remov': 1404, 'havent': 813, 'hamper': 799, 'christma': 299, 'sure': 1710, 'magnum': 1031, 'incas': 887, 'amazebal': 53, 'togeth': 1783, 'delici': 455, 'superb': 1703, 'kit': 941, 'bio': 160, 'stubborn': 1675, 'stain': 1632, 'word': 1932, 'warn': 1882, 'handl': 802, 'tend': 1744, 'ensur': 568, 'thoroughli': 1764, 'rins': 1429, 'repair': 1406, 'guy': 792, 'fals': 629, 'economi': 545, 'build': 227, 'caus': 262, 'issu': 918, 'huggabl': 860, 'strong': 1672, 'alcohol': 36, 'pot': 1292, 'noodl': 1150, 'student': 1677, 'yuck': 1960, 'addit': 15, 'sauc': 1467, 'pasta': 1228, 'carboard': 251, 'situat': 1546, 'access': 6, 'kettl': 935, 'chose': 298, 'mugshot': 1117, 'mistak': 1091, 'scrumptiou': 1489, 'authent': 99, 'linger': 986, 'bonu': 189, 'percent': 1236, 'fact': 620, 'husband': 864, 'classic': 309, 'lynx': 1026, 'deodor': 461, 'regularli': 1391, 'number': 1161, 'skincar': 1548, 'avoid': 102, 'toner': 1789, 'experi': 601, 'anoth': 62, 'major': 1033, 'extrem': 607, 'flaki': 667, 'sting': 1650, 'dewi': 477, 'look': 1005, 'deffin': 442, 'opinion': 1184, 'reccomend': 1371, 'deal': 431, 'slow': 1557, 'cook': 377, 'beauti': 139, 'tip': 1778, 'mark': 1045, 'alway': 51, 'fresher': 703, 'regular': 1390, 'late': 953, 'overal': 1199, 'improv': 884, 'claim': 306, 'perform': 1239, 'miracl': 1086, 'lol': 999, 'reaction': 1361, 'happen': 804, 'winter': 1920, 'weather': 1895, 'central': 266, 'heat': 821, 'vaselin': 1854, 'dealt': 432, 'includ': 889, 'elbow': 553, 'knee': 943, 'place': 1264, 'glide': 748, 'dream': 524, 'summer': 1696, 'spent': 1615, 'lay': 960, 'beach': 134, 'eyemak': 613, 'men': 1069, 'boot': 191, 'tame': 1727, 'divin': 502, 'iron': 915, 'tear': 1738, 'penni': 1234, 'scale': 1473, 'deliv': 457, 'quickli': 1347, 'shampoo': 1517, 'leak': 965, 'tan': 1728, 'sunb': 1698, 'spray': 1625, 'thought': 1765, 'clear': 314, 'friend': 706, 'huge': 859, 'indoor': 894, 'didnt': 479, 'exxtra': 609, 'fast': 635, 'thankyou': 1754, 'half': 798, 'shop': 1527, 'line': 984, 'fake': 627, 'africa': 28, 'poorer': 1283, 'new': 1139, 'softer': 1582, 'particularli': 1222, 'wrap': 1941, 'storag': 1656, 'measur': 1063, 'touch': 1795, 'brighter': 210, 'cleaner': 311, 'afterward': 29, 'everyon': 585, 'impress': 882, 'neutral': 1138, 'defiantli': 444, 'fab': 615, 'rate': 1357, 'mani': 1040, 'micel': 1075, 'wipe': 1921, 'total': 1794, 'alreadi': 46, 'receiv': 1373, 'feed': 644, 'event': 580, 'absoulut': 5, 'stick': 1647, 'job': 928, 'live': 996, 'hype': 867, 'clearli': 316, 'lead': 963, 'leader': 964, 'inspir': 903, 'confid': 359, 'certainli': 270, 'harsh': 810, 'favorit': 638, 'imposs': 881, 'sourc': 1604, 'check': 284, 'target': 1732, 'piec': 1261, 'crack': 397, 'bare': 119, 'far': 634, 'concern': 354, 'waterproof': 1891, 'mascara': 1050, 'powder': 1296, 'return': 1418, 'paid': 1211, 'daili': 420, 'basi': 125, 'age': 30, 'multipl': 1118, 'bulk': 228, 'door': 511, 'funnel': 719, 'easier': 540, 'section': 1497, 'washer': 1884, 'moreov': 1108, 'thing': 1759, 'exactli': 590, 'someth': 1589, 'odor': 1170, 'blend': 171, 'energis': 565, 'complain': 347, 'lid': 973, 'bin': 159, 'spill': 1619, 'everywher': 588, 'box': 198, 'ml': 1095, 'hope': 849, 'misl': 1088, 'month': 1105, 'start': 1638, 'enjoy': 567, 'mr': 1115, 'hinch': 834, 'glad': 744, 'scratch': 1482, 'scour': 1481, 'pad': 1210, 'minki': 1084, 'spong': 1622, 'oven': 1198, 'hob': 839, 'tap': 1731, 'sink': 1544, 'screen': 1484, 'gleam': 747, 'compact': 340, 'rang': 1352, 'actual': 12, 'complet': 349, 'ha': 794, 'excema': 592, 'hit': 836, 'everyday': 584, 'massiv': 1054, 'cap': 246, 'lenor': 969, 'unstopp': 1841, 'convert': 375, 'mild': 1079, 'messi': 1073, 'step': 1646, 'dad': 419, 'awhil': 107, 'suitabl': 1695, 'obviou': 1163, 'choic': 296, 'believ': 147, 'continu': 371, 'term': 1747, 'benefit': 151, 'happi': 805, 'alround': 48, 'consist': 365, 'dilut': 485, 'guess': 791, 'blue': 178, 'pigment': 1262, 'act': 11, 'reli': 1396, 'hydrat': 866, 'mixtur': 1094, 'varieti': 1852, 'reach': 1359, 'matter': 1056, 'neg': 1136, 'pump': 1333, 'end': 562, 'foam': 679, 'met': 1074, 'standard': 1635, 'bar': 118, 'quarter': 1343, 'truli': 1814, 'load': 997, 'sometim': 1590, 'stapl': 1636, 'heal': 818, 'abras': 2, 'boy': 199, 'store': 1657, 'cupboard': 412, 'dead': 430, 'therapi': 1755, 'origin': 1193, 'mini': 1082, 'arriv': 85, 'real': 1364, 'delight': 456, 'quick': 1346, 'subscrib': 1683, 'light': 977, 'bubbl': 224, 'floral': 673, 'masculin': 1051, 'bigger': 157, 'volum': 1871, 'garag': 725, 'known': 946, 'sweet': 1720, 'textur': 1752, 'artifici': 89, 'justv': 931, 'hour': 854, 'pale': 1213, 'disastr': 492, 'success': 1687, 'creat': 401, 'spot': 1624, 'abl': 1, 'deepli': 440, 'exfoli': 595, 'wont': 1929, 'suffer': 1690, 'babi': 108, 'style': 1680, 'genuin': 734, 'neatli': 1132, 'everyth': 586, 'shall': 1515, 'tresmemm': 1808, 'fussi': 721, 'suit': 1694, 'therefor': 1756, 'prefer': 1302, 'burst': 233, 'transit': 1803, 'snack': 1573, 'went': 1901, 'weekend': 1898, 'decid': 435, 'wet': 1902, 'cashmer': 260, 'sweater': 1719, 'sainsburi': 1456, 'scrummi': 1488, 'delic': 454, 'requir': 1411, 'bring': 215, 'runni': 1450, 'glam': 745, 'somewher': 1592, 'follow': 682, 'inexpens': 896, 'plain': 1265, 'mother': 1113, 'law': 959, 'wat': 1887, 'discount': 494, 'tin': 1775, 'sooth': 1598, 'residu': 1412, 'cool': 380, 'readi': 1363, 'magic': 1029, 'latest': 955, 'variat': 1851, 'address': 16, 'environment': 573, 'transport': 1804, 'cost': 386, 'commend': 335, 'sens': 1501, 'detect': 472, 'breath': 206, 'form': 689, 'slightli': 1553, 'zesti': 1962, 'user': 1846, 'repres': 1409, 'lessen': 970, 'impact': 879, 'environ': 572, 'albeit': 35, 'smallest': 1561, 'ideal': 871, 'son': 1593, 'adult': 20, 'children': 293, 'belov': 148, 'pet': 1251, 'incred': 892, 'lolli': 1000, 'bargain': 120, 'introduc': 911, 'partner': 1224, 'sadli': 1453, 'share': 1518, 'hot': 853, 'melt': 1067, 'drip': 530, 'finish': 661, 'favour': 639, 'properli': 1325, 'inferior': 897, 'tesco': 1749, 'microwav': 1078, 'sever': 1511, 'badli': 111, 'lumpi': 1019, 'mostli': 1110, 'simplic': 1540, 'gone': 760, 'effect': 549, 'trace': 1800, 'fanci': 632, 'maskara': 1052, 'remain': 1400, 'sticki': 1648, 'defin': 446, 'heavi': 822, 'frequent': 701, 'perhap': 1241, 'capsul': 248, 'household': 856, 'terribl': 1748, 'allerg': 37, 'constant': 366, 'hay': 814, 'fever': 650, 'wrong': 1946, 'sign': 1530, 'gluten': 756, 'casserol': 261, 'sat': 1465, 'toilet': 1784, 'barley': 122, 'coeliac': 325, 'peopl': 1235, 'unsuit': 1842, 'pick': 1258, 'signific': 1532, 'rel': 1393, 'sturdier': 1679, 'travel': 1805, 'hous': 855, 'tini': 1777, 'surfac': 1712, 'pic': 1257, 'wonder': 1927, 'deni': 459, 'fix': 665, 'instead': 906, 'whenev': 1904, 'react': 1360, 'true': 1813, 'luxuri': 1025, 'prime': 1313, 'conveni': 374, 'incorpor': 890, 'cleanser': 313, 'eventu': 581, 'margin': 1044, 'obvious': 1164, 'comment': 336, 'appreci': 76, 'break': 204, 'vegan': 1857, 'daughter': 427, 'persuad': 1249, 'hesit': 828, 'pay': 1231, 'forward': 694, 'soup': 1603, 'risotto': 1433, 'younger': 1958, 'menopaus': 1070, 'calm': 241, 'wrinkl': 1943, 'crepey': 403, 'layer': 961, 'conjunct': 361, 'hyaluron': 865, 'companion': 342, 'loss': 1007, 'firm': 662, 'oz': 1206, 'csmart': 408, 'screw': 1485, 'determin': 474, 'loos': 1006, 'knife': 944, 'wise': 1922, 'advoid': 24, 'smart': 1562, 'local': 998, 'okay': 1179, 'meant': 1062, 'equal': 574, 'artif': 88, 'upset': 1844, 'simpli': 1539, 'english': 566, 'mustard': 1123, 'colman': 329, 'sunday': 1699, 'roast': 1434, 'tube': 1816, 'invari': 912, 'serv': 1508, 'nozzl': 1160, 'block': 173, 'someon': 1588, 'scrub': 1487, 'extremli': 608, 'frangranc': 699, 'fairli': 626, 'spread': 1626, 'soak': 1576, 'smelt': 1567, 'wilkinson': 1915, 'area': 80, 'soon': 1594, 'becom': 140, 'scalp': 1475, 'satisfi': 1466, 'sorri': 1601, 'voucher': 1872, 'post': 1290, 'slimi': 1555, 'problem': 1318, 'unhappi': 1833, 'respons': 1414, 'treat': 1806, 'portug': 1288, 'miss': 1090, 'tea': 1737, 'straighten': 1661, 'curl': 414, 'damag': 422, 'seller': 1500, 'pod': 1279, 'bag': 113, 'filler': 655, 'rich': 1424, 'special': 1610, 'elsewher': 556, 'laundri': 958, 'hate': 811, 'arrog': 86, 'unilev': 1834, 'hold': 840, 'palm': 1214, 'fine': 658, 'paragon': 1218, 'champ': 275, 'tight': 1770, 'win': 1917, 'doubl': 514, 'struggl': 1674, 'tough': 1796, 'unbeliev': 1826, 'compliment': 350, 'august': 98, 'itchi': 920, 'stream': 1665, 'grandchildren': 772, 'unfortun': 1832, 'green': 780, 'lime': 981, 'individu': 893, 'dandruff': 425, 'anti': 63, 'prior': 1315, 'particular': 1221, 'busi': 234, 'mum': 1119, 'admit': 18, 'neglect': 1137, 'empathis': 559, 'trial': 1810, 'opportun': 1185, 'reconnect': 1380, 'cme': 322, 'smother': 1571, 'offens': 1172, 'alo': 41, 'applic': 74, 'bedtim': 142, 'verdict': 1861, 'thumb': 1767, 'ye': 1950, 'second': 1494, 'lightweight': 978, 'tendenc': 1745, 'pull': 1332, 'liber': 972, 'discreet': 496, 'overwhelm': 1205, 'protector': 1328, 'retain': 1417, 'ezyema': 614, 'switch': 1722, 'radiant': 1350, 'regim': 1388, 'thinner': 1761, 'heavili': 823, 'cancel': 245, 'subscript': 1684, 'wait': 1875, 'fyi': 723, 'attract': 97, 'floweri': 675, 'badeda': 110, 'holiday': 842, 'sun': 1697, 'till': 1773, 'stope': 1655, 'blow': 177, 'prevent': 1308, 'transform': 1802, 'nose': 1153, 'dehydr': 453, 'sort': 1602, 'rest': 1415, 'sleep': 1550, 'caramel': 249, 'marshmallow': 1048, 'liter': 993, 'calori': 243, 'bomb': 186, 'gross': 784, 'gonna': 761, 'throw': 1766, 'coca': 324, 'butter': 235, 'marmit': 1047, 'lover': 1013, 'glass': 746, 'jar': 925, 'oddli': 1169, 'given': 742, 'persev': 1244, 'shini': 1525, 'root': 1438, 'drier': 529, 'grown': 787, 'horribl': 851, 'agre': 33, 'tighter': 1771, 'import': 880, 'confus': 360, 'milk': 1081, 'maker': 1035, 'risk': 1432, 'underwear': 1831, 'ultra': 1825, 'twice': 1820, 'combin': 332, 'harmoni': 809, 'chicken': 291, 'mushroom': 1122, 'pie': 1260, 'salt': 1459, 'ruin': 1448, 'chuck': 302, 'tongu': 1791, 'season': 1493, 'accident': 7, 'swallow': 1716, 'sea': 1490, 'xd': 1947, 'older': 1181, 'wide': 1912, 'awak': 104, 'flakey': 666, 'smelli': 1565, 'pit': 1263, 'plenti': 1274, 'longer': 1002, 'comparison': 344, 'yo': 1955, 'born': 192, 'defient': 445, 'odourless': 1171, 'suppl': 1707, 'nightli': 1146, 'bed': 141, 'clog': 319, 'pore': 1286, 'replenish': 1408, 'daytim': 429, 'reappli': 1368, 'overnight': 1203, 'unscent': 1838, 'patch': 1229, 'stone': 1653, 'munchi': 1120, 'food': 684, 'depend': 463, 'wish': 1923, 'talk': 1725, 'visit': 1870, 'certifi': 271, 'british': 216, 'foundat': 695, 'freshli': 704, 'launder': 957, 'reliabl': 1397, 'cooler': 381, 'wahs': 1874, 'soapi': 1578, 'type': 1821, 'downsid': 517, 'hole': 841, 'tresemm': 1807, 'stand': 1634, 'yummi': 1961, 'sugari': 1692, 'eco': 543, 'parcel': 1219, 'brain': 200, 'op': 1182, 'wife': 1913, 'safe': 1454, 'recomend': 1378, 'aswel': 94, 'moist': 1098, 'surf': 1711, 'stay': 1643, 'articl': 87, 'acn': 10, 'scar': 1476, 'opposit': 1186, 'life': 975, 'visibl': 1869, 'fade': 622, 'dermatologist': 465, 'game': 724, 'changer': 278, 'main': 1032, 'test': 1750, 'singl': 1543, 'mayo': 1059, 'bod': 181, 'bat': 127, 'quench': 1344, 'fell': 647, 'cooki': 379, 'dough': 515, 'superdrug': 1704, 'prize': 1316, 'buzz': 238, 'limit': 983, 'edit': 548, 'stayer': 1644, 'scratchi': 1483, 'rip': 1430, 'mistreat': 1092, 'dock': 503, 'reus': 1419, 'revitalis': 1421, 'gentli': 733, 'impur': 885, 'servic': 1509, 'fault': 636, 'rocemmend': 1435, 'almond': 40, 'mouth': 1114, 'fave': 637, 'dark': 426, 'passion': 1226, 'narrow': 1126, 'accur': 8, 'slim': 1554, 'pourer': 1295, 'dribbl': 528, 'washload': 1885, 'flower': 674, 'hint': 835, 'fruit': 711, 'mango': 1039, 'brought': 220, 'cornet': 383, 'luvli': 1023, 'carri': 258, 'worri': 1935, 'man': 1037, 'choos': 297, 'sweat': 1718, 'mayonnais': 1060, 'substanc': 1685, 'squeezi': 1629, 'geniu': 731, 'idea': 870, 'tall': 1726, 'unstabl': 1840, 'ive': 924, 'fridg': 705, 'tumbl': 1817, 'brittl': 217, 'shatter': 1521, 'groundhog': 785, 'cri': 404, 'overhaul': 1201, 'curri': 416, 'besid': 153, 'sachet': 1452, 'edibl': 547, 'phenomen': 1254, 'function': 717, 'longest': 1003, 'rid': 1426, 'kept': 934, 'drawback': 521, 'suppli': 1708, 'wear': 1894, 'diabet': 478, 'carbohydr': 252, 'nutrit': 1162, 'inform': 898, 'whatsoev': 1903, 'wall': 1878, 'specif': 1611, 'portion': 1287, 'whitehead': 1910, 'bash': 124, 'inadvert': 886, 'deterg': 473, 'fairi': 625, 'joint': 929, 'biolog': 162, 'septic': 1506, 'tank': 1729, 'dispens': 499, 'insert': 901, 'suffici': 1691, 'condit': 356, 'competit': 346, 'hav': 812, 'btilliant': 222, 'wild': 1914, 'enthusiast': 569, 'err': 575, 'gener': 730, 'custom': 417, 'write': 1945, 'uncomfort': 1830, 'clash': 307, 'coat': 323, 'sickli': 1529, 'raspberri': 1356, 'cover': 394, 'core': 382, 'remind': 1403, 'cheapest': 283, 'imagin': 875, 'insipid': 902, 'rush': 1451, 'develop': 475, 'process': 1320, 'bitter': 165, 'rippl': 1431, 'consid': 363, 'lush': 1022, 'suggest': 1693, 'petrolatum': 1252, 'damp': 423, 'eczema': 546, 'rosacea': 1440, 'coz': 396, 'wors': 1936, 'apprehens': 77, 'broken': 219, 'fit': 664, 'purpos': 1339, 'sport': 1623, 'mad': 1028, 'teenag': 1739, 'promis': 1322, 'moisturisor': 1102, 'deoder': 460, 'discov': 495, 'shame': 1516, 'broke': 218, 'manli': 1041, 'foami': 680, 'wondr': 1928, 'variou': 1853, 'chamomil': 274, 'weight': 1900, 'thicker': 1758, 'space': 1605, 'nicest': 1144, 'bo': 179, 'beater': 138, 'plainli': 1266, 'bright': 208, 'bold': 185, 'grudg': 788, 'dirti': 489, 'tablet': 1723, 'necess': 1133, 'weekli': 1899, 'groceri': 783, 'budget': 226, 'cake': 240, 'exot': 597, 'veget': 1858, 'ariel': 81, 'domin': 509, 'global': 750, 'consum': 367, 'giant': 736, 'expert': 602, 'dodgi': 505, 'imit': 876, 'sub': 1681, 'guarante': 790, 'high': 831, 'rubberi': 1446, 'gossam': 765, 'case': 259, 'brightli': 211, 'funki': 718, 'purpl': 1338, 'grey': 782, 'swirl': 1721, 'gu': 789, 'outsid': 1196, 'grade': 769, 'disappear': 490, 'mysteri': 1124, 'sphinx': 1617, 'giza': 743, 'bermuda': 152, 'triangl': 1811, 'voynich': 1873, 'manuscript': 1043, 'xlarg': 1948, 'discontinu': 493, 'option': 1188, 'limescal': 982, 'unclog': 1829, 'wake': 1876, 'plump': 1277, 'ill': 873, 'pun': 1334, 'intend': 908, 'altern': 49, 'forth': 692, 'healthier': 820, 'advic': 22, 'minimum': 1083, 'annoy': 60, 'asid': 91, 'run': 1449, 'plug': 1276, 'potenti': 1293, 'increas': 891, 'member': 1068, 'endors': 563, 'practic': 1299, 'nappi': 1125, 'pyramid': 1340, 'warm': 1881, 'present': 1304, 'st': 1631, 'rememb': 1402, 'repurchas': 1410, 'figur': 654, 'medicin': 1064, 'cabinet': 239, 'salti': 1460, 'yeast': 1952, 'honest': 845, 'toast': 1781, 'fluctuat': 676, 'particulr': 1223, 'watch': 1888, 'smellllllll': 1566, 'sauna': 1468, 'outstand': 1197, 'turkey': 1818, 'neck': 1134, 'shake': 1513, 'graviti': 776, 'vastli': 1855, 'sharp': 1520, 'begin': 145, 'assum': 93, 'grow': 786, 'ocado': 1165, 'sampl': 1461, 'state': 1640, 'formula': 691, 'correct': 385, 'later': 954, 'boost': 190, 'sooo': 1596, 'complaint': 348, 'concept': 353, 'recal': 1370, 'tetra': 1751, 'public': 1330, 'innov': 900, 'refil': 1385, 'cardboard': 255, 'dose': 513, 'counter': 390, 'read': 1362, 'print': 1314, 'wrapper': 1942, 'magnif': 1030, 'anim': 57, 'whilst': 1907, 'provid': 1329, 'headquart': 817, 'offic': 1174, 'produc': 1321, 'countri': 391, 'sale': 1458, 'carbon': 253, 'footprint': 685, 'torn': 1793, 'extrat': 606, 'wherea': 1905, 'secondli': 1495, 'spare': 1608, 'rib': 1423, 'persdper': 1243, 'reorder': 1405, 'somewhat': 1591, 'feminin': 649, 'perspir': 1248, 'danc': 424, 'bay': 133, 'waxi': 1892, 'shark': 1519, 'ben': 149, 'jerri': 927, 'fragrant': 698, 'bargin': 121, 'vanilla': 1850, 'iritatw': 914, 'tbh': 1736, 'loo': 1004, 'conceal': 351, 'moment': 1103, 'coverag': 395, 'brighten': 209, 'glowi': 754, 'perfectli': 1238, 'view': 1867, 'consciou': 362, 'paper': 1217, 'temperament': 1742, 'lazi': 962, 'girl': 739, 'solut': 1586, 'deep': 439, 'repeat': 1407, 'versatil': 1864, 'heel': 824, 'econom': 544, 'defo': 451, 'direct': 487, 'chronic': 300, 'chapstick': 279, 'jot': 930, 'bob': 180, 'uncl': 1828, 'awesom': 106, 'doeant': 506, 'soggi': 1583, 'mess': 1072, 'dish': 498, 'lux': 1024, 'plan': 1267, 'kcal': 932, 'control': 373, 'diet': 481, 'biodegrad': 161, 'forev': 687, 'blackhead': 166, 'zone': 1963, 'fed': 643, 'tone': 1788, 'anymor': 65, 'bland': 167, 'wateri': 1890, 'gold': 759, 'spring': 1627, 'cold': 327, 'cardigan': 256, 'thirti': 1762, 'degre': 452, 'tie': 1769, 'boil': 183, 'bikini': 158, 'dedic': 438, 'ylang': 1954, 'town': 1798, 'aaaaamaz': 0, 'tattoooo': 1735, 'previous': 1310, 'admir': 17, 'blast': 168, 'whiff': 1906, 'planet': 1268, 'pollut': 1281, 'funni': 720, 'cone': 358, 'crispi': 405, 'cornetto': 384, 'flare': 668, 'itch': 919, 'crazi': 398, 'escap': 577, 'lift': 976, 'drop': 531, 'instantli': 905, 'relief': 1398, 'effortlessli': 552, 'alot': 44, 'effici': 550, 'linen': 985, 'pre': 1301, 'extract': 605, 'honey': 847, 'suckl': 1688, 'yesterday': 1953, 'perman': 1242, 'cherri': 289, 'blossom': 175, 'pea': 1232, 'sandal': 1463, 'wood': 1930, 'cup': 411, 'lunch': 1020, 'king': 940, 'gram': 771, 'antiperspir': 64, 'unblock': 1827, 'gradual': 770, 'pleasantli': 1272, 'surpris': 1713, 'cours': 393, 'fcuk': 641, 'opt': 1187, 'starter': 1639, 'newborn': 1140, 'gym': 793, 'hunger': 861, 'challeng': 273, 'strength': 1667, 'endur': 564, 'helmann': 826, 'bone': 188, 'tendon': 1746, 'appeal': 72, 'advantag': 21, 'citru': 305, 'muscl': 1121, 'bump': 229, 'ador': 19, 'handi': 801, 'persist': 1246, 'whitout': 1911, 'sin': 1541, 'spend': 1614, 'woken': 1925, 'reiment': 1392, 'smudg': 1572, 'novelti': 1159, 'fish': 663, 'quantiti': 1342, 'deodour': 462, 'swear': 1717, 'arkward': 82, 'kick': 937, 'sent': 1504, 'toiletri': 1785, 'linnen': 988, 'film': 656, 'teeth': 1740, 'ceram': 267, 'realis': 1365, 'cent': 265, 'gooey': 763, 'marshmallowey': 1049, 'phish': 1255, 'class': 308, 'spain': 1607, 'breakout': 205, 'intoler': 910, 'superior': 1705, 'alon': 43, 'thiught': 1763, 'cojld': 326, 'garnier': 726, 'apar': 70, 'stripey': 1671, 'feet': 646, 'orang': 1189, 'stink': 1651, 'moral': 1107, 'stori': 1658, 'format': 690, 'shave': 1522, 'dress': 526, 'fewer': 651, 'worn': 1934, 'meet': 1066, 'amazingli': 54, 'flavor': 670, 'powderi': 1297, 'exempt': 594, 'medium': 1065, 'annoyiji': 61, 'occas': 1166, 'immedi': 877, 'serum': 1507, 'contribut': 372, 'deco': 437, 'women': 1926, 'eldest': 554, 'forgotten': 688, 'chew': 290, 'rope': 1439, 'school': 1479, 'lie': 974, 'nother': 1156, 'automat': 100, 'gloopi': 751, 'drugstor': 532, 'brainer': 201, 'partnership': 1225, 'encourag': 561, 'spici': 1618, 'fear': 642, 'spilt': 1620, 'alright': 47, 'gotta': 767, 'cetearyl': 272, 'cif': 304, 'power': 1298, 'mirror': 1087, 'nightmar': 1147, 'fun': 716, 'ordinari': 1191, 'thicken': 1757, 'gravi': 775, 'pop': 1284, 'press': 1306, 'spell': 1613, 'scali': 1474, 'quid': 1348, 'tempt': 1743, 'everytim': 587, 'spf': 1616, 'critic': 407, 'uva': 1848, 'convinc': 376, 'refer': 1384, 'batteri': 132, 'verifi': 1862, 'overli': 1202, 'allergi': 38, 'certain': 269, 'bondi': 187, 'sand': 1462, 'slight': 1552, 'fabul': 617, 'hike': 833, 'itsel': 922, 'frizz': 708, 'flat': 669, 'lank': 949, 'bounc': 196, 'stuck': 1676, 'unus': 1843, 'cooker': 378, 'invigor': 913, 'newer': 1141, 'rd': 1358, 'isnt': 917, 'cerav': 268, 'norm': 1151, 'begun': 146, 'calmer': 242, 'sciencey': 1480, 'id': 869, 'unless': 1835, 'anytim': 68, 'indulg': 895, 'bite': 164, 'dog': 508, 'micro': 1077, 'granul': 773, 'wari': 1880, 'stainless': 1633, 'steel': 1645, 'liquidi': 991, 'velvet': 1859, 'hopingthat': 850, 'fair': 624, 'btw': 223, 'instruct': 907, 'typic': 1822, 'dy': 537, 'tong': 1790, 'question': 1345, 'clip': 318, 'sensat': 1502, 'definatli': 447, 'surprisingli': 1714, 'shock': 1526, 'litr': 994, 'imo': 878, 'salad': 1457, 'bake': 114, 'bean': 135, 'frozen': 710, 'pear': 1233, 'youth': 1959, 'anitipersperi': 58, 'accustom': 9, 'richer': 1425, 'bundl': 230, 'low': 1014, 'carb': 250, 'duti': 536, 'sock': 1579, 'fraction': 696, 'loveliest': 1012, 'wrist': 1944, 'drum': 533, 'modest': 1097, 'inch': 888, 'god': 757, 'somebodi': 1587, 'brazil': 203, 'expat': 598, 'bearabl': 136, 'vfm': 1866, 'head': 815, 'winner': 1919, 'iv': 923, 'batgain': 129, 'averag': 101, 'oreal': 1192, 'resist': 1413, 'girlfriend': 740, 'mention': 1071, 'benefici': 150, 'list': 992, 'chanc': 276, 'transfer': 1801, 'snif': 1575, 'commit': 338, 'stiff': 1649, 'kg': 936, 'alobg': 42, 'matur': 1057, 'hiya': 838, 'stress': 1668, 'pricey': 1312, 'reliev': 1399, 'final': 657, 'tropic': 1812, 'lili': 980, 'mud': 1116, 'spag': 1606, 'bol': 184, 'attent': 96, 'lingeri': 987, 'cotton': 388, 'silk': 1535, 'fiber': 652, 'gigant': 738, 'possibl': 1289, 'lash': 952, 'eyebrow': 611, 'hide': 830, 'sunshin': 1701, 'clingi': 317, 'greazi': 779, 'advis': 23, 'rare': 1354, 'desir': 469, 'blotch': 176, 'brown': 221, 'attach': 95, 'ignor': 872, 'fortun': 693, 'fulfil': 714, 'criteria': 406, 'wilt': 1916, 'yard': 1949, 'radiu': 1351, 'alarm': 34, 'whisk': 1908, 'drainag': 520, 'devin': 476, 'signatur': 1531, 'haha': 795, 'saver': 1470, 'pamper': 1215, 'heheh': 825, 'hunk': 862, 'shelf': 1523, 'unscrew': 1839, 'glove': 752, 'odd': 1168, 'horrif': 852, 'headach': 816, 'desper': 470, 'afraid': 27, 'disturb': 501, 'properti': 1326, 'fluff': 677, 'dryness': 534, 'unpleas': 1837, 'seal': 1491, 'drain': 519, 'yogurt': 1956, 'alpro': 45, 'blop': 174, 'postag': 1291, 'doctor': 504, 'soooo': 1597, 'walk': 1877, 'pervas': 1250, 'sky': 1549, 'fruiti': 712, 'strike': 1669, 'balanc': 115, 'slurp': 1558, 'reckon': 1376, 'nearer': 1130, 'path': 1230, 'decidedli': 436, 'newsweek': 1142, 'fluffi': 678, 'smoother': 1569, 'hive': 837, 'aggrav': 31, 'wool': 1931, 'chsnge': 301, 'remark': 1401, 'specifi': 1612, 'conclus': 355, 'lure': 1021, 'entic': 570, 'squint': 1630, 'reviv': 1422, 'fallen': 628, 'deffinalti': 443, 'fond': 683, 'poor': 1282, 'consider': 364, 'dinner': 486, 'parti': 1220, 'everybodi': 583, 'jelli': 926, 'loyal': 1015, 'balm': 116, 'finger': 659, 'color': 330, 'petroleum': 1253, 'shadow': 1512, 'appropri': 79, 'tidi': 1768, 'eyelin': 612, 'error': 576, 'spars': 1609, 'bud': 225, 'homemad': 844, 'brill': 212, 'row': 1444, 'roll': 1436, 'shaken': 1514, 'disgust': 497, 'contact': 368, 'suddenli': 1689, 'alth': 50, 'insread': 904, 'toxic': 1799, 'dud': 535, 'split': 1621, 'cautiou': 263, 'lucki': 1017, 'monthli': 1106, 'beed': 143, 'scrib': 1486, 'hurt': 863, 'glitter': 749, 'ankl': 59, 'drawer': 522, 'bovril': 197, 'moan': 1096, 'arm': 83, 'significantli': 1533, 'strang': 1662, 'bleach': 169, 'occasion': 1167, 'recognis': 1377, 'cedarwood': 264, 'popular': 1285, 'bother': 193, 'dozen': 518, 'blindingli': 172, 'leg': 968, 'tanner': 1730, 'stronger': 1673, 'street': 1666, 'veg': 1856, 'cube': 409, 'batch': 128, 'recipebut': 1375, 'secret': 1496, 'mile': 1080, 'hr': 858, 'sedentari': 1498, 'worst': 1937, 'verri': 1863, 'hi': 829, 'uk': 1823, 'anywher': 69, 'massag': 1053, 'keen': 933, 'ban': 117, 'sneaki': 1574, 'woke': 1924, 'sunk': 1700, 'tacki': 1724, 'surviv': 1715, 'brexit': 207, 'defintley': 450, 'die': 480, 'em': 558, 'pregnant': 1303, 'moisteris': 1099, 'lost': 1008, 'count': 389, 'streaki': 1664, 'capful': 247, 'common': 339, 'loyalti': 1016, 'sooner': 1595, 'mostur': 1111, 'definetli': 448, 'mostureris': 1112, 'tissu': 1780, 'pain': 1212, 'pleasur': 1273, 'happili': 806, 'vera': 1860, 'directli': 488, 'allow': 39, 'subject': 1682, 'greenhous': 781, 'gase': 727, 'ultim': 1824, 'fight': 653, 'tire': 1779, 'drawn': 523, 'child': 292, 'dosag': 512, 'statement': 1641, 'worthwhil': 1939, 'sorbet': 1599, 'focus': 681, 'exact': 589, 'costco': 387, 'curiou': 413, 'baffl': 112, 'elviv': 557, 'realiz': 1366, 'silicon': 1534, 'hairdress': 797, 'appoint': 75, 'defenc': 441, 'purifi': 1337, 'pralin': 1300, 'choc': 294, 'solero': 1585}\n"
     ]
    }
   ],
   "source": [
    "TFIDF_vectorizer  = TfidfVectorizer(stop_words='english')\n",
    "\n",
    "TFIDF_vectorizer.fit(X_train)\n",
    "print('\\nVocabulary: \\n', TFIDF_vectorizer.vocabulary_)\n",
    "\n",
    "train_tf = TFIDF_vectorizer.fit_transform(X_train)\n",
    "test_tf = TFIDF_vectorizer.transform(X_test)"
   ]
  },
  {
   "cell_type": "markdown",
   "metadata": {},
   "source": [
    "### Multinomial Naive Bayes model"
   ]
  },
  {
   "cell_type": "code",
   "execution_count": 75,
   "metadata": {},
   "outputs": [],
   "source": [
    "#IMPLEMENTING AND RUNNING MNB MODEL - TFIDF\n",
    "mnb2 = MultinomialNB()\n",
    "mnb2.fit(train_tf, y_train)\n",
    "prediction = mnb2.predict(test_tf)"
   ]
  },
  {
   "cell_type": "code",
   "execution_count": 76,
   "metadata": {},
   "outputs": [
    {
     "name": "stdout",
     "output_type": "stream",
     "text": [
      "NAIVE BAYES EVALUATION - TFIDF VECTORIZER\n",
      "Accuracy:  81.31386861313868\n",
      "Precision:  85.15901060070671\n",
      "Recall:  73.70030581039755\n",
      "F1 score:  79.01639344262294\n"
     ]
    }
   ],
   "source": [
    "#EVALUATION\n",
    "mnb_a2 = accuracy_score(y_test, prediction)*100\n",
    "mnb_p2 = precision_score(y_test, prediction)* 100\n",
    "mnb_r2 = recall_score(y_test, prediction)*100\n",
    "mnb_f12 = f1_score(y_test, prediction)*100\n",
    "\n",
    "print('NAIVE BAYES EVALUATION - TFIDF VECTORIZER')\n",
    "print('Accuracy: ', mnb_a2)\n",
    "print('Precision: ', mnb_p2)\n",
    "print('Recall: ', mnb_r2)\n",
    "print('F1 score: ', mnb_f12)"
   ]
  },
  {
   "cell_type": "code",
   "execution_count": 77,
   "metadata": {},
   "outputs": [
    {
     "data": {
      "text/plain": [
       "<sklearn.metrics._plot.confusion_matrix.ConfusionMatrixDisplay at 0x203ae02a250>"
      ]
     },
     "execution_count": 77,
     "metadata": {},
     "output_type": "execute_result"
    },
    {
     "data": {
      "image/png": "[encoded data removed]",
      "text/plain": [
       "<Figure size 432x288 with 2 Axes>"
      ]
     },
     "metadata": {
      "needs_background": "light"
     },
     "output_type": "display_data"
    }
   ],
   "source": [
    "#CONFUSION MATRIX\n",
    "cm =  confusion_matrix(y_test, prediction, labels=mnb2.classes_)\n",
    "display = ConfusionMatrixDisplay(confusion_matrix=cm,\n",
    "                              display_labels=mnb2.classes_) \n",
    "display.plot() "
   ]
  },
  {
   "cell_type": "markdown",
   "metadata": {},
   "source": [
    "### Support Vector Machine model"
   ]
  },
  {
   "cell_type": "code",
   "execution_count": 78,
   "metadata": {},
   "outputs": [],
   "source": [
    "#IMPLEMENTING AND RUNNING SVM MODEL - TFIDF \n",
    "svm2 = SVC(kernel='linear')\n",
    "svm2.fit(train_tf, y_train)\n",
    "prediction = svm2.predict(test_tf)"
   ]
  },
  {
   "cell_type": "code",
   "execution_count": 79,
   "metadata": {},
   "outputs": [
    {
     "name": "stdout",
     "output_type": "stream",
     "text": [
      "SUPPORT VECTOR MACHINE EVALUATION - TFIDF VECTORIZER\n",
      "Accuracy:  83.7956204379562\n",
      "Precision:  82.33532934131736\n",
      "Recall:  84.09785932721712\n",
      "F1 score:  83.2072617246596\n"
     ]
    }
   ],
   "source": [
    "#EVALUATION\n",
    "svm_a2 = accuracy_score(y_test, prediction)*100\n",
    "svm_p2 = precision_score(y_test, prediction)* 100\n",
    "svm_r2 = recall_score(y_test, prediction)*100\n",
    "svm_f12 = f1_score(y_test, prediction)*100\n",
    "\n",
    "print('SUPPORT VECTOR MACHINE EVALUATION - TFIDF VECTORIZER')\n",
    "print('Accuracy: ', svm_a2)\n",
    "print('Precision: ', svm_p2)\n",
    "print('Recall: ', svm_r2)\n",
    "print('F1 score: ', svm_f12)"
   ]
  },
  {
   "cell_type": "code",
   "execution_count": 80,
   "metadata": {},
   "outputs": [
    {
     "data": {
      "text/plain": [
       "<sklearn.metrics._plot.confusion_matrix.ConfusionMatrixDisplay at 0x203adfc7eb0>"
      ]
     },
     "execution_count": 80,
     "metadata": {},
     "output_type": "execute_result"
    },
    {
     "data": {
      "image/png": "[encoded data removed]",
      "text/plain": [
       "<Figure size 432x288 with 2 Axes>"
      ]
     },
     "metadata": {
      "needs_background": "light"
     },
     "output_type": "display_data"
    }
   ],
   "source": [
    "#CONFUSION MATRIX\n",
    "cm =  confusion_matrix(y_test, prediction, labels=svm2.classes_)\n",
    "display = ConfusionMatrixDisplay(confusion_matrix=cm,\n",
    "                              display_labels=svm2.classes_) \n",
    "display.plot() "
   ]
  },
  {
   "cell_type": "markdown",
   "metadata": {},
   "source": [
    "### Logistic Regression model"
   ]
  },
  {
   "cell_type": "code",
   "execution_count": 81,
   "metadata": {},
   "outputs": [],
   "source": [
    "#IMPLEMENTATION AND RUNNING LR MODEL - TFIDF \n",
    "lr2 = LogisticRegression()\n",
    "lr2.fit(train_tf, y_train)\n",
    "prediction = lr2.predict(test_tf)"
   ]
  },
  {
   "cell_type": "code",
   "execution_count": 82,
   "metadata": {},
   "outputs": [
    {
     "name": "stdout",
     "output_type": "stream",
     "text": [
      "LOGISTIC REGRESSION EVALUATION - TFIDF VECTORIZER\n",
      "Accuracy:  82.04379562043795\n",
      "Precision:  81.09756097560977\n",
      "Recall:  81.34556574923548\n",
      "F1 score:  81.22137404580153\n"
     ]
    }
   ],
   "source": [
    "#EVALUATION\n",
    "lr_a2 = accuracy_score(y_test, prediction)*100\n",
    "lr_p2 = precision_score(y_test, prediction)* 100\n",
    "lr_r2 = recall_score(y_test, prediction)*100\n",
    "lr_f12 = f1_score(y_test, prediction)*100\n",
    "\n",
    "print('LOGISTIC REGRESSION EVALUATION - TFIDF VECTORIZER')\n",
    "print('Accuracy: ', lr_a2)\n",
    "print('Precision: ', lr_p2)\n",
    "print('Recall: ', lr_r2)\n",
    "print('F1 score: ', lr_f12)"
   ]
  },
  {
   "cell_type": "code",
   "execution_count": 83,
   "metadata": {},
   "outputs": [
    {
     "data": {
      "text/plain": [
       "<sklearn.metrics._plot.confusion_matrix.ConfusionMatrixDisplay at 0x203ae168c10>"
      ]
     },
     "execution_count": 83,
     "metadata": {},
     "output_type": "execute_result"
    },
    {
     "data": {
      "image/png": "[encoded data removed]",
      "text/plain": [
       "<Figure size 432x288 with 2 Axes>"
      ]
     },
     "metadata": {
      "needs_background": "light"
     },
     "output_type": "display_data"
    }
   ],
   "source": [
    "#CONFUSION MATRIX\n",
    "cm =  confusion_matrix(y_test, prediction, labels=lr2.classes_)\n",
    "display = ConfusionMatrixDisplay(confusion_matrix=cm,\n",
    "                              display_labels=lr2.classes_) \n",
    "display.plot() "
   ]
  },
  {
   "cell_type": "markdown",
   "metadata": {},
   "source": [
    "### COMPARING ACCURACY"
   ]
  },
  {
   "cell_type": "code",
   "execution_count": 84,
   "metadata": {},
   "outputs": [
    {
     "data": {
      "text/html": [
       "<div>\n",
       "<style scoped>\n",
       "    .dataframe tbody tr th:only-of-type {\n",
       "        vertical-align: middle;\n",
       "    }\n",
       "\n",
       "    .dataframe tbody tr th {\n",
       "        vertical-align: top;\n",
       "    }\n",
       "\n",
       "    .dataframe thead th {\n",
       "        text-align: right;\n",
       "    }\n",
       "</style>\n",
       "<table border=\"1\" class=\"dataframe\">\n",
       "  <thead>\n",
       "    <tr style=\"text-align: right;\">\n",
       "      <th></th>\n",
       "      <th>MNB</th>\n",
       "      <th>SVM</th>\n",
       "      <th>LR</th>\n",
       "    </tr>\n",
       "  </thead>\n",
       "  <tbody>\n",
       "    <tr>\n",
       "      <th>Count Vectorizer</th>\n",
       "      <td>80.0</td>\n",
       "      <td>84.0</td>\n",
       "      <td>85.0</td>\n",
       "    </tr>\n",
       "    <tr>\n",
       "      <th>Tfidf Vectorizer</th>\n",
       "      <td>81.0</td>\n",
       "      <td>84.0</td>\n",
       "      <td>82.0</td>\n",
       "    </tr>\n",
       "  </tbody>\n",
       "</table>\n",
       "</div>"
      ],
      "text/plain": [
       "                   MNB   SVM    LR\n",
       "Count Vectorizer  80.0  84.0  85.0\n",
       "Tfidf Vectorizer  81.0  84.0  82.0"
      ]
     },
     "execution_count": 84,
     "metadata": {},
     "output_type": "execute_result"
    }
   ],
   "source": [
    "model_accuracy={'MNB': [round(mnb_a1), round(mnb_a2)],\n",
    "                'SVM': [round(svm_a1), round(svm_a2)],\n",
    "                'LR': [round(lr_a1), round(lr_a2)]\n",
    "               }\n",
    "ma = pd.DataFrame(model_accuracy, columns = ['MNB','SVM','LR'], index=['Count Vectorizer','Tfidf Vectorizer'])\n",
    "ma"
   ]
  },
  {
   "cell_type": "markdown",
   "metadata": {},
   "source": [
    "### COMPARING PRECISION"
   ]
  },
  {
   "cell_type": "code",
   "execution_count": 85,
   "metadata": {},
   "outputs": [
    {
     "data": {
      "text/html": [
       "<div>\n",
       "<style scoped>\n",
       "    .dataframe tbody tr th:only-of-type {\n",
       "        vertical-align: middle;\n",
       "    }\n",
       "\n",
       "    .dataframe tbody tr th {\n",
       "        vertical-align: top;\n",
       "    }\n",
       "\n",
       "    .dataframe thead th {\n",
       "        text-align: right;\n",
       "    }\n",
       "</style>\n",
       "<table border=\"1\" class=\"dataframe\">\n",
       "  <thead>\n",
       "    <tr style=\"text-align: right;\">\n",
       "      <th></th>\n",
       "      <th>MNB</th>\n",
       "      <th>SVM</th>\n",
       "      <th>LR</th>\n",
       "    </tr>\n",
       "  </thead>\n",
       "  <tbody>\n",
       "    <tr>\n",
       "      <th>Count Vectorizer</th>\n",
       "      <td>81.0</td>\n",
       "      <td>79.0</td>\n",
       "      <td>80.0</td>\n",
       "    </tr>\n",
       "    <tr>\n",
       "      <th>Tfidf Vectorizer</th>\n",
       "      <td>85.0</td>\n",
       "      <td>82.0</td>\n",
       "      <td>81.0</td>\n",
       "    </tr>\n",
       "  </tbody>\n",
       "</table>\n",
       "</div>"
      ],
      "text/plain": [
       "                   MNB   SVM    LR\n",
       "Count Vectorizer  81.0  79.0  80.0\n",
       "Tfidf Vectorizer  85.0  82.0  81.0"
      ]
     },
     "execution_count": 85,
     "metadata": {},
     "output_type": "execute_result"
    }
   ],
   "source": [
    "model_precision={'MNB': [round(mnb_p1), round(mnb_p2)],\n",
    "                'SVM': [round(svm_p1), round(svm_p2)],\n",
    "                'LR': [round(lr_p1), round(lr_p2)]\n",
    "               }\n",
    "mp = pd.DataFrame(model_precision, columns = ['MNB','SVM','LR'], index=['Count Vectorizer','Tfidf Vectorizer'])\n",
    "mp"
   ]
  },
  {
   "cell_type": "markdown",
   "metadata": {},
   "source": [
    "### COMPARING RECALL"
   ]
  },
  {
   "cell_type": "code",
   "execution_count": 86,
   "metadata": {},
   "outputs": [
    {
     "data": {
      "text/html": [
       "<div>\n",
       "<style scoped>\n",
       "    .dataframe tbody tr th:only-of-type {\n",
       "        vertical-align: middle;\n",
       "    }\n",
       "\n",
       "    .dataframe tbody tr th {\n",
       "        vertical-align: top;\n",
       "    }\n",
       "\n",
       "    .dataframe thead th {\n",
       "        text-align: right;\n",
       "    }\n",
       "</style>\n",
       "<table border=\"1\" class=\"dataframe\">\n",
       "  <thead>\n",
       "    <tr style=\"text-align: right;\">\n",
       "      <th></th>\n",
       "      <th>MNB</th>\n",
       "      <th>SVM</th>\n",
       "      <th>LR</th>\n",
       "    </tr>\n",
       "  </thead>\n",
       "  <tbody>\n",
       "    <tr>\n",
       "      <th>Count Vectorizer</th>\n",
       "      <td>77.0</td>\n",
       "      <td>91.0</td>\n",
       "      <td>92.0</td>\n",
       "    </tr>\n",
       "    <tr>\n",
       "      <th>Tfidf Vectorizer</th>\n",
       "      <td>74.0</td>\n",
       "      <td>84.0</td>\n",
       "      <td>81.0</td>\n",
       "    </tr>\n",
       "  </tbody>\n",
       "</table>\n",
       "</div>"
      ],
      "text/plain": [
       "                   MNB   SVM    LR\n",
       "Count Vectorizer  77.0  91.0  92.0\n",
       "Tfidf Vectorizer  74.0  84.0  81.0"
      ]
     },
     "execution_count": 86,
     "metadata": {},
     "output_type": "execute_result"
    }
   ],
   "source": [
    "model_recall={'MNB': [round(mnb_r1), round(mnb_r2)],\n",
    "                'SVM': [round(svm_r1), round(svm_r2)],\n",
    "                'LR': [round(lr_r1), round(lr_r2)]\n",
    "               }\n",
    "mr = pd.DataFrame(model_recall, columns = ['MNB','SVM','LR'], index=['Count Vectorizer','Tfidf Vectorizer'])\n",
    "mr"
   ]
  },
  {
   "cell_type": "markdown",
   "metadata": {},
   "source": [
    "### COMPARING F1 SCORE"
   ]
  },
  {
   "cell_type": "code",
   "execution_count": 87,
   "metadata": {},
   "outputs": [
    {
     "data": {
      "text/html": [
       "<div>\n",
       "<style scoped>\n",
       "    .dataframe tbody tr th:only-of-type {\n",
       "        vertical-align: middle;\n",
       "    }\n",
       "\n",
       "    .dataframe tbody tr th {\n",
       "        vertical-align: top;\n",
       "    }\n",
       "\n",
       "    .dataframe thead th {\n",
       "        text-align: right;\n",
       "    }\n",
       "</style>\n",
       "<table border=\"1\" class=\"dataframe\">\n",
       "  <thead>\n",
       "    <tr style=\"text-align: right;\">\n",
       "      <th></th>\n",
       "      <th>MNB</th>\n",
       "      <th>SVM</th>\n",
       "      <th>LR</th>\n",
       "    </tr>\n",
       "  </thead>\n",
       "  <tbody>\n",
       "    <tr>\n",
       "      <th>Count Vectorizer</th>\n",
       "      <td>79.0</td>\n",
       "      <td>85.0</td>\n",
       "      <td>85.0</td>\n",
       "    </tr>\n",
       "    <tr>\n",
       "      <th>Tfidf Vectorizer</th>\n",
       "      <td>79.0</td>\n",
       "      <td>83.0</td>\n",
       "      <td>81.0</td>\n",
       "    </tr>\n",
       "  </tbody>\n",
       "</table>\n",
       "</div>"
      ],
      "text/plain": [
       "                   MNB   SVM    LR\n",
       "Count Vectorizer  79.0  85.0  85.0\n",
       "Tfidf Vectorizer  79.0  83.0  81.0"
      ]
     },
     "execution_count": 87,
     "metadata": {},
     "output_type": "execute_result"
    }
   ],
   "source": [
    "model_f1={'MNB': [round(mnb_f11), round(mnb_f12)],\n",
    "                'SVM': [round(svm_f11), round(svm_f12)],\n",
    "                'LR': [round(lr_f11), round(lr_f12)]\n",
    "               }\n",
    "mf1 = pd.DataFrame(model_f1, columns = ['MNB','SVM','LR'], index=['Count Vectorizer','Tfidf Vectorizer'])\n",
    "mf1"
   ]
  },
  {
   "cell_type": "code",
   "execution_count": 53,
   "metadata": {},
   "outputs": [
    {
     "name": "stdout",
     "output_type": "stream",
     "text": [
      "Requirement already satisfied: pickle-mixin in c:\\users\\nishat\\anaconda3\\lib\\site-packages (1.0.2)\n"
     ]
    }
   ],
   "source": [
    "!pip install pickle-mixin"
   ]
  },
  {
   "cell_type": "code",
   "execution_count": 89,
   "metadata": {},
   "outputs": [],
   "source": [
    "#SAVING THE BEST MODEL WITH ITS RESPECTIVE VECTORIZER\n",
    "import pickle\n",
    "pickle.dump(lr1, open('best_model.pkl', 'wb'))\n",
    "pickle.dump(count_vectorizer, open('count_vectorizer.pkl', 'wb'))"
   ]
  }
 ],
 "metadata": {
  "kernelspec": {
   "display_name": "Python 3",
   "language": "python",
   "name": "python3"
  },
  "language_info": {
   "codemirror_mode": {
    "name": "ipython",
    "version": 3
   },
   "file_extension": ".py",
   "mimetype": "text/x-python",
   "name": "python",
   "nbconvert_exporter": "python",
   "pygments_lexer": "ipython3",
   "version": "3.8.3"
  }
 },
 "nbformat": 4,
 "nbformat_minor": 4
}
